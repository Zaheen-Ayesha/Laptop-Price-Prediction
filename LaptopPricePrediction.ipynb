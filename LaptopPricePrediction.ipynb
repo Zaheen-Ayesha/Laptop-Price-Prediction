{
 "cells": [
  {
   "cell_type": "markdown",
   "id": "9f12e1e7-1ba2-4f9b-91b4-5e821865e3be",
   "metadata": {},
   "source": [
    "In this Project we will be using:\n",
    "- skillsnetwork for downloading the data\n",
    "- pandas for managing the data.\n",
    "- numpy for mathematical operations.\n",
    "- scipy for statistical operations.\n",
    "- seaborn for visualizing the data.\n",
    "- matplotlib for additional plotting tools."
   ]
  },
  {
   "cell_type": "code",
   "execution_count": 8,
   "id": "98c45219-c8c8-45af-9008-eb89fe54f316",
   "metadata": {},
   "outputs": [],
   "source": [
    "import pandas as pd\n",
    "import numpy as np\n",
    "import matplotlib.pyplot as plt"
   ]
  },
  {
   "cell_type": "code",
   "execution_count": 9,
   "id": "1bf30c51-84c0-40b3-8491-db2bd33b8929",
   "metadata": {},
   "outputs": [],
   "source": [
    "df=pd.read_csv(\"laptops (1).csv\",header=None)"
   ]
  },
  {
   "cell_type": "code",
   "execution_count": 10,
   "id": "32fe53e6-0f09-447b-a247-8f97b13a0109",
   "metadata": {},
   "outputs": [
    {
     "data": {
      "text/html": [
       "<div>\n",
       "<style scoped>\n",
       "    .dataframe tbody tr th:only-of-type {\n",
       "        vertical-align: middle;\n",
       "    }\n",
       "\n",
       "    .dataframe tbody tr th {\n",
       "        vertical-align: top;\n",
       "    }\n",
       "\n",
       "    .dataframe thead th {\n",
       "        text-align: right;\n",
       "    }\n",
       "</style>\n",
       "<table border=\"1\" class=\"dataframe\">\n",
       "  <thead>\n",
       "    <tr style=\"text-align: right;\">\n",
       "      <th></th>\n",
       "      <th>0</th>\n",
       "      <th>1</th>\n",
       "      <th>2</th>\n",
       "      <th>3</th>\n",
       "      <th>4</th>\n",
       "      <th>5</th>\n",
       "      <th>6</th>\n",
       "      <th>7</th>\n",
       "      <th>8</th>\n",
       "      <th>9</th>\n",
       "      <th>10</th>\n",
       "      <th>11</th>\n",
       "    </tr>\n",
       "  </thead>\n",
       "  <tbody>\n",
       "    <tr>\n",
       "      <th>0</th>\n",
       "      <td>Acer</td>\n",
       "      <td>4</td>\n",
       "      <td>IPS Panel</td>\n",
       "      <td>2</td>\n",
       "      <td>1</td>\n",
       "      <td>5</td>\n",
       "      <td>35.56</td>\n",
       "      <td>1.6</td>\n",
       "      <td>8</td>\n",
       "      <td>256</td>\n",
       "      <td>1.6</td>\n",
       "      <td>978</td>\n",
       "    </tr>\n",
       "    <tr>\n",
       "      <th>1</th>\n",
       "      <td>Dell</td>\n",
       "      <td>3</td>\n",
       "      <td>Full HD</td>\n",
       "      <td>1</td>\n",
       "      <td>1</td>\n",
       "      <td>3</td>\n",
       "      <td>39.624</td>\n",
       "      <td>2.0</td>\n",
       "      <td>4</td>\n",
       "      <td>256</td>\n",
       "      <td>2.2</td>\n",
       "      <td>634</td>\n",
       "    </tr>\n",
       "    <tr>\n",
       "      <th>2</th>\n",
       "      <td>Dell</td>\n",
       "      <td>3</td>\n",
       "      <td>Full HD</td>\n",
       "      <td>1</td>\n",
       "      <td>1</td>\n",
       "      <td>7</td>\n",
       "      <td>39.624</td>\n",
       "      <td>2.7</td>\n",
       "      <td>8</td>\n",
       "      <td>256</td>\n",
       "      <td>2.2</td>\n",
       "      <td>946</td>\n",
       "    </tr>\n",
       "    <tr>\n",
       "      <th>3</th>\n",
       "      <td>Dell</td>\n",
       "      <td>4</td>\n",
       "      <td>IPS Panel</td>\n",
       "      <td>2</td>\n",
       "      <td>1</td>\n",
       "      <td>5</td>\n",
       "      <td>33.782</td>\n",
       "      <td>1.6</td>\n",
       "      <td>8</td>\n",
       "      <td>128</td>\n",
       "      <td>1.22</td>\n",
       "      <td>1244</td>\n",
       "    </tr>\n",
       "    <tr>\n",
       "      <th>4</th>\n",
       "      <td>HP</td>\n",
       "      <td>4</td>\n",
       "      <td>Full HD</td>\n",
       "      <td>2</td>\n",
       "      <td>1</td>\n",
       "      <td>7</td>\n",
       "      <td>39.624</td>\n",
       "      <td>1.8</td>\n",
       "      <td>8</td>\n",
       "      <td>256</td>\n",
       "      <td>1.91</td>\n",
       "      <td>837</td>\n",
       "    </tr>\n",
       "  </tbody>\n",
       "</table>\n",
       "</div>"
      ],
      "text/plain": [
       "     0   1          2   3   4   5       6    7   8    9     10    11\n",
       "0  Acer   4  IPS Panel   2   1   5   35.56  1.6   8  256   1.6   978\n",
       "1  Dell   3    Full HD   1   1   3  39.624  2.0   4  256   2.2   634\n",
       "2  Dell   3    Full HD   1   1   7  39.624  2.7   8  256   2.2   946\n",
       "3  Dell   4  IPS Panel   2   1   5  33.782  1.6   8  128  1.22  1244\n",
       "4    HP   4    Full HD   2   1   7  39.624  1.8   8  256  1.91   837"
      ]
     },
     "execution_count": 10,
     "metadata": {},
     "output_type": "execute_result"
    }
   ],
   "source": [
    "df.head()"
   ]
  },
  {
   "cell_type": "code",
   "execution_count": 14,
   "id": "931889e8-dfbd-48dc-9040-7c1c09f61fd7",
   "metadata": {},
   "outputs": [
    {
     "data": {
      "text/plain": [
       "(238, 12)"
      ]
     },
     "execution_count": 14,
     "metadata": {},
     "output_type": "execute_result"
    }
   ],
   "source": [
    "df.shape"
   ]
  },
  {
   "cell_type": "code",
   "execution_count": 16,
   "id": "5b0b02db-4cd2-4a68-a280-c293d2309fb8",
   "metadata": {},
   "outputs": [],
   "source": [
    "headers=[\"Manufacturer\", \"Category\", \"Screen\", \"GPU\", \"OS\", \"CPU_core\", \"Screen_Size_cm\", \"CPU_frequency\",\n",
    "         \"RAM_GB\", \"Storage_GB_SSD\", \"Weight_kg\", \"Price\"]"
   ]
  },
  {
   "cell_type": "code",
   "execution_count": 18,
   "id": "b4e5c721-179b-486c-949f-67bd39ffeb22",
   "metadata": {},
   "outputs": [
    {
     "data": {
      "text/plain": [
       "Index(['Manufacturer', 'Category', 'Screen', 'GPU', 'OS', 'CPU_core',\n",
       "       'Screen_Size_cm', 'CPU_frequency', 'RAM_GB', 'Storage_GB_SSD',\n",
       "       'Weight_kg', 'Price'],\n",
       "      dtype='object')"
      ]
     },
     "execution_count": 18,
     "metadata": {},
     "output_type": "execute_result"
    }
   ],
   "source": [
    "df.columns=headers\n",
    "df.columns"
   ]
  },
  {
   "cell_type": "code",
   "execution_count": 20,
   "id": "0679e23f-6950-40fb-9cfe-5269ae2619a2",
   "metadata": {},
   "outputs": [
    {
     "data": {
      "text/html": [
       "<div>\n",
       "<style scoped>\n",
       "    .dataframe tbody tr th:only-of-type {\n",
       "        vertical-align: middle;\n",
       "    }\n",
       "\n",
       "    .dataframe tbody tr th {\n",
       "        vertical-align: top;\n",
       "    }\n",
       "\n",
       "    .dataframe thead th {\n",
       "        text-align: right;\n",
       "    }\n",
       "</style>\n",
       "<table border=\"1\" class=\"dataframe\">\n",
       "  <thead>\n",
       "    <tr style=\"text-align: right;\">\n",
       "      <th></th>\n",
       "      <th>Manufacturer</th>\n",
       "      <th>Category</th>\n",
       "      <th>Screen</th>\n",
       "      <th>GPU</th>\n",
       "      <th>OS</th>\n",
       "      <th>CPU_core</th>\n",
       "      <th>Screen_Size_cm</th>\n",
       "      <th>CPU_frequency</th>\n",
       "      <th>RAM_GB</th>\n",
       "      <th>Storage_GB_SSD</th>\n",
       "      <th>Weight_kg</th>\n",
       "      <th>Price</th>\n",
       "    </tr>\n",
       "  </thead>\n",
       "  <tbody>\n",
       "    <tr>\n",
       "      <th>0</th>\n",
       "      <td>Acer</td>\n",
       "      <td>4</td>\n",
       "      <td>IPS Panel</td>\n",
       "      <td>2</td>\n",
       "      <td>1</td>\n",
       "      <td>5</td>\n",
       "      <td>35.56</td>\n",
       "      <td>1.6</td>\n",
       "      <td>8</td>\n",
       "      <td>256</td>\n",
       "      <td>1.6</td>\n",
       "      <td>978</td>\n",
       "    </tr>\n",
       "    <tr>\n",
       "      <th>1</th>\n",
       "      <td>Dell</td>\n",
       "      <td>3</td>\n",
       "      <td>Full HD</td>\n",
       "      <td>1</td>\n",
       "      <td>1</td>\n",
       "      <td>3</td>\n",
       "      <td>39.624</td>\n",
       "      <td>2.0</td>\n",
       "      <td>4</td>\n",
       "      <td>256</td>\n",
       "      <td>2.2</td>\n",
       "      <td>634</td>\n",
       "    </tr>\n",
       "    <tr>\n",
       "      <th>2</th>\n",
       "      <td>Dell</td>\n",
       "      <td>3</td>\n",
       "      <td>Full HD</td>\n",
       "      <td>1</td>\n",
       "      <td>1</td>\n",
       "      <td>7</td>\n",
       "      <td>39.624</td>\n",
       "      <td>2.7</td>\n",
       "      <td>8</td>\n",
       "      <td>256</td>\n",
       "      <td>2.2</td>\n",
       "      <td>946</td>\n",
       "    </tr>\n",
       "    <tr>\n",
       "      <th>3</th>\n",
       "      <td>Dell</td>\n",
       "      <td>4</td>\n",
       "      <td>IPS Panel</td>\n",
       "      <td>2</td>\n",
       "      <td>1</td>\n",
       "      <td>5</td>\n",
       "      <td>33.782</td>\n",
       "      <td>1.6</td>\n",
       "      <td>8</td>\n",
       "      <td>128</td>\n",
       "      <td>1.22</td>\n",
       "      <td>1244</td>\n",
       "    </tr>\n",
       "    <tr>\n",
       "      <th>4</th>\n",
       "      <td>HP</td>\n",
       "      <td>4</td>\n",
       "      <td>Full HD</td>\n",
       "      <td>2</td>\n",
       "      <td>1</td>\n",
       "      <td>7</td>\n",
       "      <td>39.624</td>\n",
       "      <td>1.8</td>\n",
       "      <td>8</td>\n",
       "      <td>256</td>\n",
       "      <td>1.91</td>\n",
       "      <td>837</td>\n",
       "    </tr>\n",
       "  </tbody>\n",
       "</table>\n",
       "</div>"
      ],
      "text/plain": [
       "  Manufacturer  Category     Screen  GPU  OS  CPU_core Screen_Size_cm  \\\n",
       "0         Acer         4  IPS Panel    2   1         5          35.56   \n",
       "1         Dell         3    Full HD    1   1         3         39.624   \n",
       "2         Dell         3    Full HD    1   1         7         39.624   \n",
       "3         Dell         4  IPS Panel    2   1         5         33.782   \n",
       "4           HP         4    Full HD    2   1         7         39.624   \n",
       "\n",
       "   CPU_frequency  RAM_GB  Storage_GB_SSD Weight_kg  Price  \n",
       "0            1.6       8             256       1.6    978  \n",
       "1            2.0       4             256       2.2    634  \n",
       "2            2.7       8             256       2.2    946  \n",
       "3            1.6       8             128      1.22   1244  \n",
       "4            1.8       8             256      1.91    837  "
      ]
     },
     "execution_count": 20,
     "metadata": {},
     "output_type": "execute_result"
    }
   ],
   "source": [
    "df.head()"
   ]
  },
  {
   "cell_type": "markdown",
   "id": "583997bc-1bb6-4357-8ba5-14be2ca8f23b",
   "metadata": {},
   "source": [
    "This dataset contains various specifications of laptops, which can be used to predict their prices based on different features."
   ]
  },
  {
   "cell_type": "code",
   "execution_count": 23,
   "id": "92200674-6bc6-4e2a-9b40-513f2cb8d8d2",
   "metadata": {},
   "outputs": [
    {
     "name": "stdout",
     "output_type": "stream",
     "text": [
      "<class 'pandas.core.frame.DataFrame'>\n",
      "RangeIndex: 238 entries, 0 to 237\n",
      "Data columns (total 12 columns):\n",
      " #   Column          Non-Null Count  Dtype  \n",
      "---  ------          --------------  -----  \n",
      " 0   Manufacturer    238 non-null    object \n",
      " 1   Category        238 non-null    int64  \n",
      " 2   Screen          238 non-null    object \n",
      " 3   GPU             238 non-null    int64  \n",
      " 4   OS              238 non-null    int64  \n",
      " 5   CPU_core        238 non-null    int64  \n",
      " 6   Screen_Size_cm  238 non-null    object \n",
      " 7   CPU_frequency   238 non-null    float64\n",
      " 8   RAM_GB          238 non-null    int64  \n",
      " 9   Storage_GB_SSD  238 non-null    int64  \n",
      " 10  Weight_kg       238 non-null    object \n",
      " 11  Price           238 non-null    int64  \n",
      "dtypes: float64(1), int64(7), object(4)\n",
      "memory usage: 22.4+ KB\n"
     ]
    }
   ],
   "source": [
    "df.info()"
   ]
  },
  {
   "cell_type": "markdown",
   "id": "b3631adc-804c-4e31-b967-1617398f6147",
   "metadata": {},
   "source": [
    "<h1> Data Wrangling </h1>"
   ]
  },
  {
   "cell_type": "code",
   "execution_count": 26,
   "id": "f385511a-dc36-4be6-a09c-cb386a5b9a5f",
   "metadata": {},
   "outputs": [
    {
     "data": {
      "text/plain": [
       "Manufacturer      0\n",
       "Category          0\n",
       "Screen            0\n",
       "GPU               0\n",
       "OS                0\n",
       "CPU_core          0\n",
       "Screen_Size_cm    0\n",
       "CPU_frequency     0\n",
       "RAM_GB            0\n",
       "Storage_GB_SSD    0\n",
       "Weight_kg         0\n",
       "Price             0\n",
       "dtype: int64"
      ]
     },
     "execution_count": 26,
     "metadata": {},
     "output_type": "execute_result"
    }
   ],
   "source": [
    "df.isna().sum()"
   ]
  },
  {
   "cell_type": "code",
   "execution_count": 28,
   "id": "8786f63e-e09d-4525-a7e4-bb6f711c362c",
   "metadata": {},
   "outputs": [
    {
     "data": {
      "text/plain": [
       "Manufacturer      0\n",
       "Category          0\n",
       "Screen            0\n",
       "GPU               0\n",
       "OS                0\n",
       "CPU_core          0\n",
       "Screen_Size_cm    4\n",
       "CPU_frequency     0\n",
       "RAM_GB            0\n",
       "Storage_GB_SSD    0\n",
       "Weight_kg         5\n",
       "Price             0\n",
       "dtype: int64"
      ]
     },
     "execution_count": 28,
     "metadata": {},
     "output_type": "execute_result"
    }
   ],
   "source": [
    "question_mark_counts = (df == \"?\").sum()\n",
    "question_mark_counts"
   ]
  },
  {
   "cell_type": "code",
   "execution_count": 30,
   "id": "47a662dc-8e9d-4d83-9f1c-f47132b27f04",
   "metadata": {},
   "outputs": [],
   "source": [
    "df.replace(\"?\",np.NaN,inplace=True)"
   ]
  },
  {
   "cell_type": "code",
   "execution_count": 32,
   "id": "cf7ab1ad-d3df-4d50-b910-d7128d45f592",
   "metadata": {},
   "outputs": [
    {
     "name": "stdout",
     "output_type": "stream",
     "text": [
      "No unwanted entries found.\n"
     ]
    }
   ],
   "source": [
    "unwanted_values = [\"?\", \"N/A\", \"null\", \"NA\", \"Undefined\", \"None\"]\n",
    "# Check if any unwanted value exists\n",
    "contains_unwanted = df.isin(unwanted_values).any().any()\n",
    "\n",
    "if contains_unwanted:\n",
    "    print(\"Dataset contains unwanted entries.\")\n",
    "else:\n",
    "    print(\"No unwanted entries found.\")"
   ]
  },
  {
   "cell_type": "code",
   "execution_count": 34,
   "id": "7f10090e-2d32-4ed2-8c0a-69ca77b8150f",
   "metadata": {},
   "outputs": [
    {
     "data": {
      "text/plain": [
       "Manufacturer       object\n",
       "Category            int64\n",
       "Screen             object\n",
       "GPU                 int64\n",
       "OS                  int64\n",
       "CPU_core            int64\n",
       "Screen_Size_cm     object\n",
       "CPU_frequency     float64\n",
       "RAM_GB              int64\n",
       "Storage_GB_SSD      int64\n",
       "Weight_kg          object\n",
       "Price               int64\n",
       "dtype: object"
      ]
     },
     "execution_count": 34,
     "metadata": {},
     "output_type": "execute_result"
    }
   ],
   "source": [
    "df.dtypes"
   ]
  },
  {
   "cell_type": "markdown",
   "id": "37e315f8-9ff3-407d-ace9-a4b40368931f",
   "metadata": {},
   "source": [
    "Note that we can update the Screen_Size_cm column such that all values are rounded to nearest 2 decimal places by using numpy.round()\n",
    "\n"
   ]
  },
  {
   "cell_type": "code",
   "execution_count": 37,
   "id": "c44b63a8-854a-4e56-97be-913e18467a6b",
   "metadata": {},
   "outputs": [
    {
     "name": "stdout",
     "output_type": "stream",
     "text": [
      "object\n"
     ]
    }
   ],
   "source": [
    "print(df[\"Screen_Size_cm\"].dtype)"
   ]
  },
  {
   "cell_type": "code",
   "execution_count": 39,
   "id": "cb88f1a2-4e4e-4dd2-b00d-1cfbc22d4fb3",
   "metadata": {},
   "outputs": [
    {
     "data": {
      "text/html": [
       "<div>\n",
       "<style scoped>\n",
       "    .dataframe tbody tr th:only-of-type {\n",
       "        vertical-align: middle;\n",
       "    }\n",
       "\n",
       "    .dataframe tbody tr th {\n",
       "        vertical-align: top;\n",
       "    }\n",
       "\n",
       "    .dataframe thead th {\n",
       "        text-align: right;\n",
       "    }\n",
       "</style>\n",
       "<table border=\"1\" class=\"dataframe\">\n",
       "  <thead>\n",
       "    <tr style=\"text-align: right;\">\n",
       "      <th></th>\n",
       "      <th>Manufacturer</th>\n",
       "      <th>Category</th>\n",
       "      <th>Screen</th>\n",
       "      <th>GPU</th>\n",
       "      <th>OS</th>\n",
       "      <th>CPU_core</th>\n",
       "      <th>Screen_Size_cm</th>\n",
       "      <th>CPU_frequency</th>\n",
       "      <th>RAM_GB</th>\n",
       "      <th>Storage_GB_SSD</th>\n",
       "      <th>Weight_kg</th>\n",
       "      <th>Price</th>\n",
       "    </tr>\n",
       "  </thead>\n",
       "  <tbody>\n",
       "    <tr>\n",
       "      <th>0</th>\n",
       "      <td>Acer</td>\n",
       "      <td>4</td>\n",
       "      <td>IPS Panel</td>\n",
       "      <td>2</td>\n",
       "      <td>1</td>\n",
       "      <td>5</td>\n",
       "      <td>35.56</td>\n",
       "      <td>1.6</td>\n",
       "      <td>8</td>\n",
       "      <td>256</td>\n",
       "      <td>1.6</td>\n",
       "      <td>978</td>\n",
       "    </tr>\n",
       "    <tr>\n",
       "      <th>1</th>\n",
       "      <td>Dell</td>\n",
       "      <td>3</td>\n",
       "      <td>Full HD</td>\n",
       "      <td>1</td>\n",
       "      <td>1</td>\n",
       "      <td>3</td>\n",
       "      <td>39.624</td>\n",
       "      <td>2.0</td>\n",
       "      <td>4</td>\n",
       "      <td>256</td>\n",
       "      <td>2.2</td>\n",
       "      <td>634</td>\n",
       "    </tr>\n",
       "    <tr>\n",
       "      <th>2</th>\n",
       "      <td>Dell</td>\n",
       "      <td>3</td>\n",
       "      <td>Full HD</td>\n",
       "      <td>1</td>\n",
       "      <td>1</td>\n",
       "      <td>7</td>\n",
       "      <td>39.624</td>\n",
       "      <td>2.7</td>\n",
       "      <td>8</td>\n",
       "      <td>256</td>\n",
       "      <td>2.2</td>\n",
       "      <td>946</td>\n",
       "    </tr>\n",
       "    <tr>\n",
       "      <th>3</th>\n",
       "      <td>Dell</td>\n",
       "      <td>4</td>\n",
       "      <td>IPS Panel</td>\n",
       "      <td>2</td>\n",
       "      <td>1</td>\n",
       "      <td>5</td>\n",
       "      <td>33.782</td>\n",
       "      <td>1.6</td>\n",
       "      <td>8</td>\n",
       "      <td>128</td>\n",
       "      <td>1.22</td>\n",
       "      <td>1244</td>\n",
       "    </tr>\n",
       "    <tr>\n",
       "      <th>4</th>\n",
       "      <td>HP</td>\n",
       "      <td>4</td>\n",
       "      <td>Full HD</td>\n",
       "      <td>2</td>\n",
       "      <td>1</td>\n",
       "      <td>7</td>\n",
       "      <td>39.624</td>\n",
       "      <td>1.8</td>\n",
       "      <td>8</td>\n",
       "      <td>256</td>\n",
       "      <td>1.91</td>\n",
       "      <td>837</td>\n",
       "    </tr>\n",
       "  </tbody>\n",
       "</table>\n",
       "</div>"
      ],
      "text/plain": [
       "  Manufacturer  Category     Screen  GPU  OS  CPU_core Screen_Size_cm  \\\n",
       "0         Acer         4  IPS Panel    2   1         5          35.56   \n",
       "1         Dell         3    Full HD    1   1         3         39.624   \n",
       "2         Dell         3    Full HD    1   1         7         39.624   \n",
       "3         Dell         4  IPS Panel    2   1         5         33.782   \n",
       "4           HP         4    Full HD    2   1         7         39.624   \n",
       "\n",
       "   CPU_frequency  RAM_GB  Storage_GB_SSD Weight_kg  Price  \n",
       "0            1.6       8             256       1.6    978  \n",
       "1            2.0       4             256       2.2    634  \n",
       "2            2.7       8             256       2.2    946  \n",
       "3            1.6       8             128      1.22   1244  \n",
       "4            1.8       8             256      1.91    837  "
      ]
     },
     "execution_count": 39,
     "metadata": {},
     "output_type": "execute_result"
    }
   ],
   "source": [
    "df['Screen_Size_cm']=np.round(df['Screen_Size_cm'],2)\n",
    "df.head()"
   ]
  },
  {
   "cell_type": "markdown",
   "id": "bab9dde1-bf8b-4ee3-bd60-d3f6d7d525c1",
   "metadata": {},
   "source": [
    "# Replace the missing values\n",
    "The continuous variable can be replaced with the mean and the categorical data can be replaced with the most frequently occuring value"
   ]
  },
  {
   "cell_type": "code",
   "execution_count": 42,
   "id": "15a336c6-44e1-4330-ada8-e02a3ca406f1",
   "metadata": {},
   "outputs": [],
   "source": [
    "avg_weight=df['Weight_kg'].astype(float).mean(axis=0)\n",
    "df['Weight_kg']=df['Weight_kg'].replace(np.nan,avg_weight)"
   ]
  },
  {
   "cell_type": "code",
   "execution_count": 44,
   "id": "bea1be7c-ebd1-4868-9c2b-e8dba72d2c0f",
   "metadata": {},
   "outputs": [
    {
     "data": {
      "text/plain": [
       "'39.624'"
      ]
     },
     "execution_count": 44,
     "metadata": {},
     "output_type": "execute_result"
    }
   ],
   "source": [
    "common_screen_size=df[\"Screen_Size_cm\"].value_counts().idxmax()\n",
    "common_screen_size"
   ]
  },
  {
   "cell_type": "code",
   "execution_count": 46,
   "id": "ba7e534e-de0c-49e5-a8aa-cf12e62962bb",
   "metadata": {},
   "outputs": [],
   "source": [
    "df[\"Screen_Size_cm\"]=df[\"Screen_Size_cm\"].replace(np.NaN,common_screen_size)"
   ]
  },
  {
   "cell_type": "code",
   "execution_count": 48,
   "id": "359ebfb1-fb8b-4c3f-a060-646e202fc296",
   "metadata": {},
   "outputs": [],
   "source": [
    "df[\"Weight_kg\"]=df[\"Weight_kg\"].astype(\"float\")"
   ]
  },
  {
   "cell_type": "markdown",
   "id": "c28743f7-7752-4f51-a8f8-ffaca6cf1e7a",
   "metadata": {},
   "source": [
    "# Data Standardization\n",
    "The value of Screen_size usually has a standard unit of inches. Similarly, weight of the laptop is needed to be in pounds. Use the below mentioned units of conversion and write a code to modify the columns of the dataframe accordingly. Update their names as well.\n",
    "\n",
    "1 inch = 2.54 cm\n",
    "\n",
    "1 kg   = 2.205 pounds"
   ]
  },
  {
   "cell_type": "code",
   "execution_count": 51,
   "id": "b3b22026-db7f-4591-adad-70534bd8961b",
   "metadata": {},
   "outputs": [],
   "source": [
    "df[\"Screen_Size_cm\"]=df[\"Screen_Size_cm\"].astype(\"float\")\n",
    "df['Screen_Size_cm']=df['Screen_Size_cm']*2.54\n",
    "df=df.rename(columns={\"Screen_Size_cm\":\"Screen_Size_inch\"})"
   ]
  },
  {
   "cell_type": "code",
   "execution_count": 53,
   "id": "2cdfccab-1377-4bc9-850d-f45274f68914",
   "metadata": {},
   "outputs": [],
   "source": [
    "df['Weight_kg']=df['Weight_kg']*2.205\n",
    "df=df.rename(columns={\"Weight_kg\":\"Weight_Pounds\"})"
   ]
  },
  {
   "cell_type": "markdown",
   "id": "a73fd7ee-831d-4ec6-824d-352aafcc06c5",
   "metadata": {},
   "source": [
    "# Data Normalization\n",
    "Often it is required to normalize a continuous data attribute. Write a code to normalize the \"CPU_frequency\" attribute with respect to the maximum value available in the dataset."
   ]
  },
  {
   "cell_type": "code",
   "execution_count": 56,
   "id": "864f8dbd-0e65-48e3-bddd-4487fc437579",
   "metadata": {},
   "outputs": [],
   "source": [
    "df[\"CPU_frequency\"]=df[\"CPU_frequency\"]/df[\"CPU_frequency\"].max()"
   ]
  },
  {
   "cell_type": "code",
   "execution_count": 58,
   "id": "63f2be12-e1e5-4af9-8cc7-4bf085c410fd",
   "metadata": {},
   "outputs": [
    {
     "data": {
      "text/plain": [
       "0    0.551724\n",
       "1    0.689655\n",
       "2    0.931034\n",
       "3    0.551724\n",
       "4    0.620690\n",
       "Name: CPU_frequency, dtype: float64"
      ]
     },
     "execution_count": 58,
     "metadata": {},
     "output_type": "execute_result"
    }
   ],
   "source": [
    "df[\"CPU_frequency\"].head()"
   ]
  },
  {
   "cell_type": "markdown",
   "id": "2f610f50-118f-4e9e-87ba-3bcf7314b86f",
   "metadata": {},
   "source": [
    "# Binning\n",
    "Binning is a process of creating a categorical attribute which splits the values of a continuous data into a specified number of groups. In this case, write a code to create 3 bins for the attribute \"Price\". These bins would be named \"Low\", \"Medium\" and \"High\". The new attribute will be named \"Price-binned\"."
   ]
  },
  {
   "cell_type": "code",
   "execution_count": 61,
   "id": "e9e4c27c-363d-4d0a-948a-19bd7f3837c4",
   "metadata": {},
   "outputs": [
    {
     "data": {
      "text/plain": [
       "dtype('int64')"
      ]
     },
     "execution_count": 61,
     "metadata": {},
     "output_type": "execute_result"
    }
   ],
   "source": [
    "df[\"Price\"].dtype"
   ]
  },
  {
   "cell_type": "code",
   "execution_count": 63,
   "id": "39fcd27a-94c7-4ea4-81ca-e92ba92f5f88",
   "metadata": {},
   "outputs": [
    {
     "data": {
      "image/png": "[encoded data removed]",
      "text/plain": [
       "<Figure size 640x480 with 1 Axes>"
      ]
     },
     "metadata": {},
     "output_type": "display_data"
    }
   ],
   "source": [
    "plt.hist(df[\"Price\"],bins=3,color='blue',edgecolor='black',alpha=0.7)\n",
    "plt.xlabel(\"Price\")\n",
    "plt.ylabel(\"Count\")\n",
    "plt.title(\"Price Bins\")\n",
    "plt.show()"
   ]
  },
  {
   "cell_type": "code",
   "execution_count": 64,
   "id": "35ca6688-0a4e-467d-b725-94cf3ac84eb8",
   "metadata": {},
   "outputs": [
    {
     "data": {
      "text/plain": [
       "array([ 527.        , 1621.33333333, 2715.66666667, 3810.        ])"
      ]
     },
     "execution_count": 64,
     "metadata": {},
     "output_type": "execute_result"
    }
   ],
   "source": [
    "bins=np.linspace(min(df[\"Price\"]),max(df[\"Price\"]),4)\n",
    "bins"
   ]
  },
  {
   "cell_type": "code",
   "execution_count": 65,
   "id": "3ea17865-9a14-4619-b697-6f4a22d8d1be",
   "metadata": {},
   "outputs": [],
   "source": [
    "group_names=[\"Low\",\"Medium\",\"High\"]"
   ]
  },
  {
   "cell_type": "markdown",
   "id": "a141ce23-f7ce-4bf3-86a8-fa139ecf78ca",
   "metadata": {},
   "source": [
    "Apply the function \"cut\" to determine what each value of df['Price'] belongs to"
   ]
  },
  {
   "cell_type": "code",
   "execution_count": 70,
   "id": "16945654-901b-45fa-99e5-61966dee6276",
   "metadata": {},
   "outputs": [],
   "source": [
    "df[\"Price-binned\"]=pd.cut(df[\"Price\"],bins=bins,labels=group_names,include_lowest=True)"
   ]
  },
  {
   "cell_type": "code",
   "execution_count": 72,
   "id": "b269e209-1f31-45fd-933d-c6835760946a",
   "metadata": {},
   "outputs": [
    {
     "data": {
      "text/html": [
       "<div>\n",
       "<style scoped>\n",
       "    .dataframe tbody tr th:only-of-type {\n",
       "        vertical-align: middle;\n",
       "    }\n",
       "\n",
       "    .dataframe tbody tr th {\n",
       "        vertical-align: top;\n",
       "    }\n",
       "\n",
       "    .dataframe thead th {\n",
       "        text-align: right;\n",
       "    }\n",
       "</style>\n",
       "<table border=\"1\" class=\"dataframe\">\n",
       "  <thead>\n",
       "    <tr style=\"text-align: right;\">\n",
       "      <th></th>\n",
       "      <th>Price</th>\n",
       "      <th>Price-binned</th>\n",
       "    </tr>\n",
       "  </thead>\n",
       "  <tbody>\n",
       "    <tr>\n",
       "      <th>0</th>\n",
       "      <td>978</td>\n",
       "      <td>Low</td>\n",
       "    </tr>\n",
       "    <tr>\n",
       "      <th>1</th>\n",
       "      <td>634</td>\n",
       "      <td>Low</td>\n",
       "    </tr>\n",
       "    <tr>\n",
       "      <th>2</th>\n",
       "      <td>946</td>\n",
       "      <td>Low</td>\n",
       "    </tr>\n",
       "    <tr>\n",
       "      <th>3</th>\n",
       "      <td>1244</td>\n",
       "      <td>Low</td>\n",
       "    </tr>\n",
       "    <tr>\n",
       "      <th>4</th>\n",
       "      <td>837</td>\n",
       "      <td>Low</td>\n",
       "    </tr>\n",
       "    <tr>\n",
       "      <th>...</th>\n",
       "      <td>...</td>\n",
       "      <td>...</td>\n",
       "    </tr>\n",
       "    <tr>\n",
       "      <th>233</th>\n",
       "      <td>1891</td>\n",
       "      <td>Medium</td>\n",
       "    </tr>\n",
       "    <tr>\n",
       "      <th>234</th>\n",
       "      <td>1950</td>\n",
       "      <td>Medium</td>\n",
       "    </tr>\n",
       "    <tr>\n",
       "      <th>235</th>\n",
       "      <td>2236</td>\n",
       "      <td>Medium</td>\n",
       "    </tr>\n",
       "    <tr>\n",
       "      <th>236</th>\n",
       "      <td>883</td>\n",
       "      <td>Low</td>\n",
       "    </tr>\n",
       "    <tr>\n",
       "      <th>237</th>\n",
       "      <td>1499</td>\n",
       "      <td>Low</td>\n",
       "    </tr>\n",
       "  </tbody>\n",
       "</table>\n",
       "<p>238 rows × 2 columns</p>\n",
       "</div>"
      ],
      "text/plain": [
       "     Price Price-binned\n",
       "0      978          Low\n",
       "1      634          Low\n",
       "2      946          Low\n",
       "3     1244          Low\n",
       "4      837          Low\n",
       "..     ...          ...\n",
       "233   1891       Medium\n",
       "234   1950       Medium\n",
       "235   2236       Medium\n",
       "236    883          Low\n",
       "237   1499          Low\n",
       "\n",
       "[238 rows x 2 columns]"
      ]
     },
     "execution_count": 72,
     "metadata": {},
     "output_type": "execute_result"
    }
   ],
   "source": [
    "df[['Price','Price-binned']]"
   ]
  },
  {
   "cell_type": "code",
   "execution_count": 74,
   "id": "841773e7-8cfe-4b3b-acdf-79e9e02854fb",
   "metadata": {},
   "outputs": [
    {
     "data": {
      "text/plain": [
       "Price-binned\n",
       "Low       160\n",
       "Medium     72\n",
       "High        6\n",
       "Name: count, dtype: int64"
      ]
     },
     "execution_count": 74,
     "metadata": {},
     "output_type": "execute_result"
    }
   ],
   "source": [
    "bin_count=df[\"Price-binned\"].value_counts()\n",
    "bin_count"
   ]
  },
  {
   "cell_type": "code",
   "execution_count": 76,
   "id": "5584b2d9-f8b9-44b1-8a14-ca725daec625",
   "metadata": {},
   "outputs": [
    {
     "data": {
      "image/png": "[encoded data removed]",
      "text/plain": [
       "<Figure size 640x480 with 1 Axes>"
      ]
     },
     "metadata": {},
     "output_type": "display_data"
    }
   ],
   "source": [
    "plt.bar(group_names,bin_count,color='skyblue',edgecolor='black')\n",
    "plt.xlabel(\"Price Binned\")\n",
    "plt.ylabel(\"Count\")\n",
    "plt.title(\"Price Distribution\")\n",
    "plt.show()"
   ]
  },
  {
   "cell_type": "markdown",
   "id": "7d886db6-5194-46a7-aaa2-74aad5b4d368",
   "metadata": {},
   "source": [
    "# Indicator variables\n",
    "Convert the \"Screen\" attribute of the dataset into 2 indicator variables, \"Screen-IPS_panel\" and \"Screen-Full_HD\". Then drop the \"Screen\" attribute from the dataset."
   ]
  },
  {
   "cell_type": "code",
   "execution_count": 79,
   "id": "1acca1fe-184c-4007-b931-eaa9c41d50fd",
   "metadata": {},
   "outputs": [
    {
     "data": {
      "text/html": [
       "<div>\n",
       "<style scoped>\n",
       "    .dataframe tbody tr th:only-of-type {\n",
       "        vertical-align: middle;\n",
       "    }\n",
       "\n",
       "    .dataframe tbody tr th {\n",
       "        vertical-align: top;\n",
       "    }\n",
       "\n",
       "    .dataframe thead th {\n",
       "        text-align: right;\n",
       "    }\n",
       "</style>\n",
       "<table border=\"1\" class=\"dataframe\">\n",
       "  <thead>\n",
       "    <tr style=\"text-align: right;\">\n",
       "      <th></th>\n",
       "      <th>Manufacturer</th>\n",
       "      <th>Category</th>\n",
       "      <th>Screen</th>\n",
       "      <th>GPU</th>\n",
       "      <th>OS</th>\n",
       "      <th>CPU_core</th>\n",
       "      <th>Screen_Size_inch</th>\n",
       "      <th>CPU_frequency</th>\n",
       "      <th>RAM_GB</th>\n",
       "      <th>Storage_GB_SSD</th>\n",
       "      <th>Weight_Pounds</th>\n",
       "      <th>Price</th>\n",
       "      <th>Price-binned</th>\n",
       "    </tr>\n",
       "  </thead>\n",
       "  <tbody>\n",
       "    <tr>\n",
       "      <th>0</th>\n",
       "      <td>Acer</td>\n",
       "      <td>4</td>\n",
       "      <td>IPS Panel</td>\n",
       "      <td>2</td>\n",
       "      <td>1</td>\n",
       "      <td>5</td>\n",
       "      <td>90.32240</td>\n",
       "      <td>0.551724</td>\n",
       "      <td>8</td>\n",
       "      <td>256</td>\n",
       "      <td>3.52800</td>\n",
       "      <td>978</td>\n",
       "      <td>Low</td>\n",
       "    </tr>\n",
       "    <tr>\n",
       "      <th>1</th>\n",
       "      <td>Dell</td>\n",
       "      <td>3</td>\n",
       "      <td>Full HD</td>\n",
       "      <td>1</td>\n",
       "      <td>1</td>\n",
       "      <td>3</td>\n",
       "      <td>100.64496</td>\n",
       "      <td>0.689655</td>\n",
       "      <td>4</td>\n",
       "      <td>256</td>\n",
       "      <td>4.85100</td>\n",
       "      <td>634</td>\n",
       "      <td>Low</td>\n",
       "    </tr>\n",
       "    <tr>\n",
       "      <th>2</th>\n",
       "      <td>Dell</td>\n",
       "      <td>3</td>\n",
       "      <td>Full HD</td>\n",
       "      <td>1</td>\n",
       "      <td>1</td>\n",
       "      <td>7</td>\n",
       "      <td>100.64496</td>\n",
       "      <td>0.931034</td>\n",
       "      <td>8</td>\n",
       "      <td>256</td>\n",
       "      <td>4.85100</td>\n",
       "      <td>946</td>\n",
       "      <td>Low</td>\n",
       "    </tr>\n",
       "    <tr>\n",
       "      <th>3</th>\n",
       "      <td>Dell</td>\n",
       "      <td>4</td>\n",
       "      <td>IPS Panel</td>\n",
       "      <td>2</td>\n",
       "      <td>1</td>\n",
       "      <td>5</td>\n",
       "      <td>85.80628</td>\n",
       "      <td>0.551724</td>\n",
       "      <td>8</td>\n",
       "      <td>128</td>\n",
       "      <td>2.69010</td>\n",
       "      <td>1244</td>\n",
       "      <td>Low</td>\n",
       "    </tr>\n",
       "    <tr>\n",
       "      <th>4</th>\n",
       "      <td>HP</td>\n",
       "      <td>4</td>\n",
       "      <td>Full HD</td>\n",
       "      <td>2</td>\n",
       "      <td>1</td>\n",
       "      <td>7</td>\n",
       "      <td>100.64496</td>\n",
       "      <td>0.620690</td>\n",
       "      <td>8</td>\n",
       "      <td>256</td>\n",
       "      <td>4.21155</td>\n",
       "      <td>837</td>\n",
       "      <td>Low</td>\n",
       "    </tr>\n",
       "  </tbody>\n",
       "</table>\n",
       "</div>"
      ],
      "text/plain": [
       "  Manufacturer  Category     Screen  GPU  OS  CPU_core  Screen_Size_inch  \\\n",
       "0         Acer         4  IPS Panel    2   1         5          90.32240   \n",
       "1         Dell         3    Full HD    1   1         3         100.64496   \n",
       "2         Dell         3    Full HD    1   1         7         100.64496   \n",
       "3         Dell         4  IPS Panel    2   1         5          85.80628   \n",
       "4           HP         4    Full HD    2   1         7         100.64496   \n",
       "\n",
       "   CPU_frequency  RAM_GB  Storage_GB_SSD  Weight_Pounds  Price Price-binned  \n",
       "0       0.551724       8             256        3.52800    978          Low  \n",
       "1       0.689655       4             256        4.85100    634          Low  \n",
       "2       0.931034       8             256        4.85100    946          Low  \n",
       "3       0.551724       8             128        2.69010   1244          Low  \n",
       "4       0.620690       8             256        4.21155    837          Low  "
      ]
     },
     "execution_count": 79,
     "metadata": {},
     "output_type": "execute_result"
    }
   ],
   "source": [
    "df.head()"
   ]
  },
  {
   "cell_type": "code",
   "execution_count": 81,
   "id": "11d6e61f-dafa-4517-bf2a-7472816e9a5e",
   "metadata": {},
   "outputs": [],
   "source": [
    "dummy_variables=pd.get_dummies(df[\"Screen\"])\n",
    "\n",
    "dummy_variables.rename(columns={\"Full HD\":\"Screen_Full_HD\",\"IPS Panel\":\"Screen_IPS_Panel\"},inplace=True)\n",
    "\n",
    "df.drop(columns=[\"Screen\"],inplace=True)\n",
    "\n",
    "df=pd.concat([df,dummy_variables],axis=1)"
   ]
  },
  {
   "cell_type": "code",
   "execution_count": 83,
   "id": "293f5ce1-aaaa-40bd-ba85-1d33ee4573c7",
   "metadata": {},
   "outputs": [
    {
     "data": {
      "text/html": [
       "<div>\n",
       "<style scoped>\n",
       "    .dataframe tbody tr th:only-of-type {\n",
       "        vertical-align: middle;\n",
       "    }\n",
       "\n",
       "    .dataframe tbody tr th {\n",
       "        vertical-align: top;\n",
       "    }\n",
       "\n",
       "    .dataframe thead th {\n",
       "        text-align: right;\n",
       "    }\n",
       "</style>\n",
       "<table border=\"1\" class=\"dataframe\">\n",
       "  <thead>\n",
       "    <tr style=\"text-align: right;\">\n",
       "      <th></th>\n",
       "      <th>Manufacturer</th>\n",
       "      <th>Category</th>\n",
       "      <th>GPU</th>\n",
       "      <th>OS</th>\n",
       "      <th>CPU_core</th>\n",
       "      <th>Screen_Size_inch</th>\n",
       "      <th>CPU_frequency</th>\n",
       "      <th>RAM_GB</th>\n",
       "      <th>Storage_GB_SSD</th>\n",
       "      <th>Weight_Pounds</th>\n",
       "      <th>Price</th>\n",
       "      <th>Price-binned</th>\n",
       "      <th>Screen_Full_HD</th>\n",
       "      <th>Screen_IPS_Panel</th>\n",
       "    </tr>\n",
       "  </thead>\n",
       "  <tbody>\n",
       "    <tr>\n",
       "      <th>0</th>\n",
       "      <td>Acer</td>\n",
       "      <td>4</td>\n",
       "      <td>2</td>\n",
       "      <td>1</td>\n",
       "      <td>5</td>\n",
       "      <td>90.32240</td>\n",
       "      <td>0.551724</td>\n",
       "      <td>8</td>\n",
       "      <td>256</td>\n",
       "      <td>3.52800</td>\n",
       "      <td>978</td>\n",
       "      <td>Low</td>\n",
       "      <td>False</td>\n",
       "      <td>True</td>\n",
       "    </tr>\n",
       "    <tr>\n",
       "      <th>1</th>\n",
       "      <td>Dell</td>\n",
       "      <td>3</td>\n",
       "      <td>1</td>\n",
       "      <td>1</td>\n",
       "      <td>3</td>\n",
       "      <td>100.64496</td>\n",
       "      <td>0.689655</td>\n",
       "      <td>4</td>\n",
       "      <td>256</td>\n",
       "      <td>4.85100</td>\n",
       "      <td>634</td>\n",
       "      <td>Low</td>\n",
       "      <td>True</td>\n",
       "      <td>False</td>\n",
       "    </tr>\n",
       "    <tr>\n",
       "      <th>2</th>\n",
       "      <td>Dell</td>\n",
       "      <td>3</td>\n",
       "      <td>1</td>\n",
       "      <td>1</td>\n",
       "      <td>7</td>\n",
       "      <td>100.64496</td>\n",
       "      <td>0.931034</td>\n",
       "      <td>8</td>\n",
       "      <td>256</td>\n",
       "      <td>4.85100</td>\n",
       "      <td>946</td>\n",
       "      <td>Low</td>\n",
       "      <td>True</td>\n",
       "      <td>False</td>\n",
       "    </tr>\n",
       "    <tr>\n",
       "      <th>3</th>\n",
       "      <td>Dell</td>\n",
       "      <td>4</td>\n",
       "      <td>2</td>\n",
       "      <td>1</td>\n",
       "      <td>5</td>\n",
       "      <td>85.80628</td>\n",
       "      <td>0.551724</td>\n",
       "      <td>8</td>\n",
       "      <td>128</td>\n",
       "      <td>2.69010</td>\n",
       "      <td>1244</td>\n",
       "      <td>Low</td>\n",
       "      <td>False</td>\n",
       "      <td>True</td>\n",
       "    </tr>\n",
       "    <tr>\n",
       "      <th>4</th>\n",
       "      <td>HP</td>\n",
       "      <td>4</td>\n",
       "      <td>2</td>\n",
       "      <td>1</td>\n",
       "      <td>7</td>\n",
       "      <td>100.64496</td>\n",
       "      <td>0.620690</td>\n",
       "      <td>8</td>\n",
       "      <td>256</td>\n",
       "      <td>4.21155</td>\n",
       "      <td>837</td>\n",
       "      <td>Low</td>\n",
       "      <td>True</td>\n",
       "      <td>False</td>\n",
       "    </tr>\n",
       "  </tbody>\n",
       "</table>\n",
       "</div>"
      ],
      "text/plain": [
       "  Manufacturer  Category  GPU  OS  CPU_core  Screen_Size_inch  CPU_frequency  \\\n",
       "0         Acer         4    2   1         5          90.32240       0.551724   \n",
       "1         Dell         3    1   1         3         100.64496       0.689655   \n",
       "2         Dell         3    1   1         7         100.64496       0.931034   \n",
       "3         Dell         4    2   1         5          85.80628       0.551724   \n",
       "4           HP         4    2   1         7         100.64496       0.620690   \n",
       "\n",
       "   RAM_GB  Storage_GB_SSD  Weight_Pounds  Price Price-binned  Screen_Full_HD  \\\n",
       "0       8             256        3.52800    978          Low           False   \n",
       "1       4             256        4.85100    634          Low            True   \n",
       "2       8             256        4.85100    946          Low            True   \n",
       "3       8             128        2.69010   1244          Low           False   \n",
       "4       8             256        4.21155    837          Low            True   \n",
       "\n",
       "   Screen_IPS_Panel  \n",
       "0              True  \n",
       "1             False  \n",
       "2             False  \n",
       "3              True  \n",
       "4             False  "
      ]
     },
     "execution_count": 83,
     "metadata": {},
     "output_type": "execute_result"
    }
   ],
   "source": [
    "df.head()"
   ]
  },
  {
   "cell_type": "markdown",
   "id": "70e85188-340a-4bce-b8f8-1d3c43c7f3be",
   "metadata": {},
   "source": [
    "# Exploratory Data Analysis"
   ]
  },
  {
   "cell_type": "markdown",
   "id": "dadd5cec-c8df-4d97-bbec-af3f77a5bd23",
   "metadata": {},
   "source": [
    "Continuous valued features\n",
    "\n",
    "Generate regression plots for each of the parameters \"CPU_frequency\", \"Screen_Size_inch\" and \"Weight_pounds\" against \"Price\". Also, print the value of correlation of each feature with \"Price\"."
   ]
  },
  {
   "cell_type": "code",
   "execution_count": 87,
   "id": "5272440f-a7bd-418a-832c-b2eaaf02dd6d",
   "metadata": {},
   "outputs": [],
   "source": [
    "import seaborn as sns"
   ]
  },
  {
   "cell_type": "code",
   "execution_count": 88,
   "id": "fd586d1e-5725-494c-b1ae-d3284da44ed1",
   "metadata": {},
   "outputs": [
    {
     "data": {
      "text/plain": [
       "(0.0, 3974.15)"
      ]
     },
     "execution_count": 88,
     "metadata": {},
     "output_type": "execute_result"
    },
    {
     "data": {
      "image/png": "[encoded data removed]",
      "text/plain": [
       "<Figure size 640x480 with 1 Axes>"
      ]
     },
     "metadata": {},
     "output_type": "display_data"
    }
   ],
   "source": [
    "sns.regplot(x=\"CPU_frequency\",y=\"Price\",data=df)\n",
    "plt.ylim(0,)"
   ]
  },
  {
   "cell_type": "code",
   "execution_count": 89,
   "id": "75b63ded-0498-452e-b29c-413f8ceb7795",
   "metadata": {},
   "outputs": [
    {
     "data": {
      "text/html": [
       "<div>\n",
       "<style scoped>\n",
       "    .dataframe tbody tr th:only-of-type {\n",
       "        vertical-align: middle;\n",
       "    }\n",
       "\n",
       "    .dataframe tbody tr th {\n",
       "        vertical-align: top;\n",
       "    }\n",
       "\n",
       "    .dataframe thead th {\n",
       "        text-align: right;\n",
       "    }\n",
       "</style>\n",
       "<table border=\"1\" class=\"dataframe\">\n",
       "  <thead>\n",
       "    <tr style=\"text-align: right;\">\n",
       "      <th></th>\n",
       "      <th>CPU_frequency</th>\n",
       "      <th>Price</th>\n",
       "    </tr>\n",
       "  </thead>\n",
       "  <tbody>\n",
       "    <tr>\n",
       "      <th>CPU_frequency</th>\n",
       "      <td>1.000000</td>\n",
       "      <td>0.366666</td>\n",
       "    </tr>\n",
       "    <tr>\n",
       "      <th>Price</th>\n",
       "      <td>0.366666</td>\n",
       "      <td>1.000000</td>\n",
       "    </tr>\n",
       "  </tbody>\n",
       "</table>\n",
       "</div>"
      ],
      "text/plain": [
       "               CPU_frequency     Price\n",
       "CPU_frequency       1.000000  0.366666\n",
       "Price               0.366666  1.000000"
      ]
     },
     "execution_count": 89,
     "metadata": {},
     "output_type": "execute_result"
    }
   ],
   "source": [
    "df[['CPU_frequency','Price']].corr()"
   ]
  },
  {
   "cell_type": "markdown",
   "id": "19b216c5-7a75-418a-96ec-dc0ecfa3842b",
   "metadata": {},
   "source": [
    "- +1\tPerfect\tPositive\n",
    "- 0.7 to 0.99\tStrong Positive\n",
    "- 0.4 to 0.69\tModerate Positive\n",
    "- 0.1 to 0.39\tWeak Positive\n",
    "- 0\tNo Correlation\tNone\n",
    "- -0.1 to -0.39\tWeak Negative\n",
    "- -0.4 to -0.69\tModerate Negative\n",
    "- -0.7 to -0.99\tStrong Negative\n",
    "- -1\tPerfect Negative"
   ]
  },
  {
   "cell_type": "markdown",
   "id": "125692b9-9a12-4b14-a4ee-20fa44615abe",
   "metadata": {},
   "source": [
    "There are a few points far above the regression line, meaning some laptops are much more expensive than expected for their CPU frequency.\n",
    "These could be premium models with additional high-end features."
   ]
  },
  {
   "cell_type": "markdown",
   "id": "79e1f53f-bfc4-473e-b7fb-a1ff24680231",
   "metadata": {},
   "source": [
    "The points are somewhat spread out around the regression line, meaning the correlation is moderate to weak."
   ]
  },
  {
   "cell_type": "markdown",
   "id": "43dcc0a6-5f0c-4025-9799-5a9aa05e0d15",
   "metadata": {},
   "source": [
    "CI is Narrow in the Middle, Wider at the Edges\n",
    "\n",
    "- This means the model is more reliable for mid-range CPU frequencies.\n",
    "- Predictions for very low or very high CPU frequencies are less reliable due to fewer data points."
   ]
  },
  {
   "cell_type": "code",
   "execution_count": 94,
   "id": "c7375f30-12e1-419b-bba8-83d7f6243195",
   "metadata": {},
   "outputs": [
    {
     "data": {
      "text/plain": [
       "(0.0, 3974.15)"
      ]
     },
     "execution_count": 94,
     "metadata": {},
     "output_type": "execute_result"
    },
    {
     "data": {
      "image/png": "[encoded data removed]",
      "text/plain": [
       "<Figure size 640x480 with 1 Axes>"
      ]
     },
     "metadata": {},
     "output_type": "display_data"
    }
   ],
   "source": [
    "sns.regplot(x='Screen_Size_inch',y='Price',data=df)\n",
    "plt.ylim(0,)"
   ]
  },
  {
   "cell_type": "code",
   "execution_count": 95,
   "id": "b2dcb62f-39d9-4862-8792-9f815d63744c",
   "metadata": {},
   "outputs": [
    {
     "data": {
      "text/html": [
       "<div>\n",
       "<style scoped>\n",
       "    .dataframe tbody tr th:only-of-type {\n",
       "        vertical-align: middle;\n",
       "    }\n",
       "\n",
       "    .dataframe tbody tr th {\n",
       "        vertical-align: top;\n",
       "    }\n",
       "\n",
       "    .dataframe thead th {\n",
       "        text-align: right;\n",
       "    }\n",
       "</style>\n",
       "<table border=\"1\" class=\"dataframe\">\n",
       "  <thead>\n",
       "    <tr style=\"text-align: right;\">\n",
       "      <th></th>\n",
       "      <th>Screen_Size_inch</th>\n",
       "      <th>Price</th>\n",
       "    </tr>\n",
       "  </thead>\n",
       "  <tbody>\n",
       "    <tr>\n",
       "      <th>Screen_Size_inch</th>\n",
       "      <td>1.000000</td>\n",
       "      <td>-0.110644</td>\n",
       "    </tr>\n",
       "    <tr>\n",
       "      <th>Price</th>\n",
       "      <td>-0.110644</td>\n",
       "      <td>1.000000</td>\n",
       "    </tr>\n",
       "  </tbody>\n",
       "</table>\n",
       "</div>"
      ],
      "text/plain": [
       "                  Screen_Size_inch     Price\n",
       "Screen_Size_inch          1.000000 -0.110644\n",
       "Price                    -0.110644  1.000000"
      ]
     },
     "execution_count": 95,
     "metadata": {},
     "output_type": "execute_result"
    }
   ],
   "source": [
    "df[['Screen_Size_inch','Price']].corr()"
   ]
  },
  {
   "cell_type": "markdown",
   "id": "7f96bc4c-1b9f-4564-8185-4f581ba92184",
   "metadata": {},
   "source": [
    "- As screen size increases, price tends to decrease slightly.\n",
    "- The points are widely scattered around the regression line, indicating a weak correlation.\n",
    "- CI is relatively wide, which means the regression model has low confidence in predicting price based solely on screen size."
   ]
  },
  {
   "cell_type": "code",
   "execution_count": 98,
   "id": "a0166e1c-dda9-4457-9c4e-e74de5f23f4f",
   "metadata": {},
   "outputs": [
    {
     "data": {
      "text/plain": [
       "(0.0, 3974.15)"
      ]
     },
     "execution_count": 98,
     "metadata": {},
     "output_type": "execute_result"
    },
    {
     "data": {
      "image/png": "[encoded data removed]",
      "text/plain": [
       "<Figure size 640x480 with 1 Axes>"
      ]
     },
     "metadata": {},
     "output_type": "display_data"
    }
   ],
   "source": [
    "sns.regplot(x='Weight_Pounds',y='Price',data=df)\n",
    "plt.ylim(0)"
   ]
  },
  {
   "cell_type": "code",
   "execution_count": 101,
   "id": "03fb48dc-1d48-4232-9d4e-58ceb09ea7ab",
   "metadata": {},
   "outputs": [
    {
     "data": {
      "text/html": [
       "<div>\n",
       "<style scoped>\n",
       "    .dataframe tbody tr th:only-of-type {\n",
       "        vertical-align: middle;\n",
       "    }\n",
       "\n",
       "    .dataframe tbody tr th {\n",
       "        vertical-align: top;\n",
       "    }\n",
       "\n",
       "    .dataframe thead th {\n",
       "        text-align: right;\n",
       "    }\n",
       "</style>\n",
       "<table border=\"1\" class=\"dataframe\">\n",
       "  <thead>\n",
       "    <tr style=\"text-align: right;\">\n",
       "      <th></th>\n",
       "      <th>Weight_Pounds</th>\n",
       "      <th>Price</th>\n",
       "    </tr>\n",
       "  </thead>\n",
       "  <tbody>\n",
       "    <tr>\n",
       "      <th>Weight_Pounds</th>\n",
       "      <td>1.000000</td>\n",
       "      <td>-0.050312</td>\n",
       "    </tr>\n",
       "    <tr>\n",
       "      <th>Price</th>\n",
       "      <td>-0.050312</td>\n",
       "      <td>1.000000</td>\n",
       "    </tr>\n",
       "  </tbody>\n",
       "</table>\n",
       "</div>"
      ],
      "text/plain": [
       "               Weight_Pounds     Price\n",
       "Weight_Pounds       1.000000 -0.050312\n",
       "Price              -0.050312  1.000000"
      ]
     },
     "execution_count": 101,
     "metadata": {},
     "output_type": "execute_result"
    }
   ],
   "source": [
    "df[['Weight_Pounds','Price']].corr()"
   ]
  },
  {
   "cell_type": "markdown",
   "id": "944e0cde-45b8-4c43-892b-57b22b81a4be",
   "metadata": {},
   "source": [
    "- The regression line is almost flat, indicating no strong relationship between laptop weight and price.\n",
    "- The points are widely scattered, meaning weight does not significantly affect laptop prices.\n",
    "- There is a slight downward slope, suggesting that heavier laptops might be slightly less expensive on average.\n",
    "- CI is wide indicating that Weight_Pounds is not a good determinant of price"
   ]
  },
  {
   "cell_type": "markdown",
   "id": "a74afa41-5621-4b9b-868a-c2acf2b85fde",
   "metadata": {},
   "source": [
    "# Categorical features\n",
    "Generate Box plots for the different feature that hold categorical values. These features would be \"Category\", \"GPU\", \"OS\", \"CPU_core\", \"RAM_GB\", \"Storage_GB_SSD\""
   ]
  },
  {
   "cell_type": "code",
   "execution_count": 106,
   "id": "1de31f29-bb01-4d76-922a-63f1eef4b986",
   "metadata": {},
   "outputs": [
    {
     "data": {
      "text/plain": [
       "<Axes: xlabel='Category', ylabel='Price'>"
      ]
     },
     "execution_count": 106,
     "metadata": {},
     "output_type": "execute_result"
    },
    {
     "data": {
      "image/png": "[encoded data removed]",
      "text/plain": [
       "<Figure size 640x480 with 1 Axes>"
      ]
     },
     "metadata": {},
     "output_type": "display_data"
    }
   ],
   "source": [
    "sns.boxplot(x=\"Category\", y=\"Price\", data=df)"
   ]
  },
  {
   "cell_type": "markdown",
   "id": "a8420125-5cf8-4753-a28d-737610f592d6",
   "metadata": {},
   "source": [
    "This boxplot visualizes the distribution of laptop prices across different categories"
   ]
  },
  {
   "cell_type": "markdown",
   "id": "77d47531-ebde-4e9a-b6a6-656b0e0446a4",
   "metadata": {},
   "source": [
    "- Laptops in Category 5 have the highest median price and widest range.\n",
    "- The upper quartile shows that high-end laptops belong to this category.\n",
    "- Category 4 has a higher median price than Category 3.\n",
    "- Category 3 has more variation, with several laptops priced below 1000.\n",
    "- Category 1 laptops have lower median prices and a narrower price range.\n",
    "- Category 2 seems to have a very small range, indicating all laptops in this category have similar pricing.\n",
    "- Multiple outliers above the upper whiskerin Category 3 Some laptops in this category may have better features (like a high-end GPU or CPU), causing the price to rise significantly above the median."
   ]
  },
  {
   "cell_type": "code",
   "execution_count": 111,
   "id": "a4660d5f-c9e6-45db-ac96-37def72716bb",
   "metadata": {},
   "outputs": [
    {
     "data": {
      "text/plain": [
       "<Axes: xlabel='GPU', ylabel='Price'>"
      ]
     },
     "execution_count": 111,
     "metadata": {},
     "output_type": "execute_result"
    },
    {
     "data": {
      "image/png": "[encoded data removed]",
      "text/plain": [
       "<Figure size 640x480 with 1 Axes>"
      ]
     },
     "metadata": {},
     "output_type": "display_data"
    }
   ],
   "source": [
    "sns.boxplot(x=\"GPU\", y=\"Price\", data=df)"
   ]
  },
  {
   "cell_type": "markdown",
   "id": "a2f45dd3-5ecd-44e4-9ea4-501c75a9ee21",
   "metadata": {},
   "source": [
    "Category 1 (GPU = 1)\n",
    "\n",
    "- Has a lower median price compared to the other categories.\n",
    "- A few outliers above the upper whisker, indicating some laptops in this category have higher prices than expected\n",
    "\n",
    "Category 2 (GPU = 2)\n",
    "\n",
    "- The median price is higher than Category 1, as expected.\n",
    "- The price distribution is more spread out.\n",
    "\n",
    "Category 3 (GPU = 3)\n",
    "\n",
    "- Has the highest median price among all categories.\n",
    "- Contains several outliers, meaning that a few laptops are significantly more expensive than the majority.\n",
    "- The overall spread is larger, showing that laptops with high-end GPUs vary greatly in price."
   ]
  },
  {
   "cell_type": "code",
   "execution_count": 114,
   "id": "1b874452-1e0b-470f-8109-981e43b88302",
   "metadata": {},
   "outputs": [
    {
     "data": {
      "text/plain": [
       "<Axes: xlabel='OS', ylabel='Price'>"
      ]
     },
     "execution_count": 114,
     "metadata": {},
     "output_type": "execute_result"
    },
    {
     "data": {
      "image/png": "[encoded data removed]",
      "text/plain": [
       "<Figure size 640x480 with 1 Axes>"
      ]
     },
     "metadata": {},
     "output_type": "display_data"
    }
   ],
   "source": [
    "sns.boxplot(x=\"OS\", y=\"Price\", data=df)"
   ]
  },
  {
   "cell_type": "markdown",
   "id": "08f596bb-06d4-49c2-ab7d-b10149403be8",
   "metadata": {},
   "source": [
    "OS = 1\n",
    "\n",
    "- Has a higher median price compared to OS = 2.\n",
    "- The price distribution is wider, meaning laptops with this OS vary significantly in price.\n",
    "- Several outliers (above $2500), indicating that some laptops with this OS are significantly more expensive than the majority.\n",
    "\n",
    "OS = 2\n",
    "\n",
    "- Has a lower median price, suggesting that this OS is typically found on more budget-friendly laptops.\n",
    "- The price range is more compact, meaning prices do not fluctuate as much as OS = 1.\n",
    "- Fewer outliers, showing more stable pricing."
   ]
  },
  {
   "cell_type": "code",
   "execution_count": 117,
   "id": "15a8b41a-0b6e-49ce-8f83-bbc00062a667",
   "metadata": {},
   "outputs": [
    {
     "data": {
      "text/plain": [
       "<Axes: xlabel='CPU_core', ylabel='Price'>"
      ]
     },
     "execution_count": 117,
     "metadata": {},
     "output_type": "execute_result"
    },
    {
     "data": {
      "image/png": "[encoded data removed]",
      "text/plain": [
       "<Figure size 640x480 with 1 Axes>"
      ]
     },
     "metadata": {},
     "output_type": "display_data"
    }
   ],
   "source": [
    "sns.boxplot(x=\"CPU_core\", y=\"Price\", data=df)"
   ]
  },
  {
   "cell_type": "markdown",
   "id": "3f02f926-8672-4ce1-8503-80f30a7b852d",
   "metadata": {},
   "source": [
    "Laptops with 3 CPU Cores\n",
    "\n",
    "- Have the lowest median price, suggesting that they are more budget-friendly.\n",
    "- Prices are more closely packed, indicating less variation.\n",
    "- No significant outliers.\n",
    "\n",
    "Laptops with 5 CPU Cores\n",
    "\n",
    "- Have a higher median price compared to 3-core CPUs.\n",
    "- The price range is wider, showing more variation in pricing.\n",
    "- Some outliers exist but are not extreme.\n",
    "\n",
    "Laptops with 7 CPU Cores\n",
    "\n",
    "- Have the highest median price, suggesting that higher-core CPUs are generally found in premium laptops.\n",
    "- The price distribution is widest, meaning there's a significant variation in pricing.\n",
    "- Multiple high-value outliers (above $3500), indicating the presence of some high-end expensive laptops."
   ]
  },
  {
   "cell_type": "code",
   "execution_count": 120,
   "id": "d68acba8-be63-483f-bc46-d3dcece86732",
   "metadata": {},
   "outputs": [
    {
     "data": {
      "text/plain": [
       "<Axes: xlabel='RAM_GB', ylabel='Price'>"
      ]
     },
     "execution_count": 120,
     "metadata": {},
     "output_type": "execute_result"
    },
    {
     "data": {
      "image/png": "[encoded data removed]",
      "text/plain": [
       "<Figure size 640x480 with 1 Axes>"
      ]
     },
     "metadata": {},
     "output_type": "display_data"
    }
   ],
   "source": [
    "sns.boxplot(x=\"RAM_GB\", y=\"Price\", data=df)"
   ]
  },
  {
   "cell_type": "markdown",
   "id": "4b118c41-99f4-4eb7-b1b4-fae48a9a09a2",
   "metadata": {},
   "source": [
    "Laptops with 4GB RAM\n",
    "\n",
    "- Have the lowest median price, indicating budget-friendly models.\n",
    "- Price distribution is relatively narrow, meaning most prices are within a close range.\n",
    "- Several low-end outliers exist.\n",
    "\n",
    "Laptops with 6GB RAM\n",
    "\n",
    "- Slightly higher prices than 4GB models, but the median price is similar.\n",
    "- Very narrow price distribution, suggesting uniform pricing.\n",
    "\n",
    "Laptops with 8GB RAM\n",
    "\n",
    "- Noticeable increase in median price compared to 4GB and 6GB models.\n",
    "- Wider price range, meaning more variations exist in pricing.\n",
    "- Some high-end outliers above $3500.\n",
    "\n",
    "Laptops with 12GB RAM\n",
    "\n",
    "- Appear to have consistent pricing without much variation.\n",
    "- Median price is slightly higher than 8GB models.\n",
    "\n",
    "Laptops with 16GB RAM\n",
    "\n",
    "- Have the highest median price, as they belong to the premium segment.\n",
    "- Very wide price distribution, indicating both high-performance consumer laptops and workstation models.\n",
    "- Presence of significant high-value outliers above $3500."
   ]
  },
  {
   "cell_type": "code",
   "execution_count": 123,
   "id": "3014f85f-8bd0-46df-9e36-9963789b8016",
   "metadata": {},
   "outputs": [
    {
     "data": {
      "text/plain": [
       "<Axes: xlabel='Storage_GB_SSD', ylabel='Price'>"
      ]
     },
     "execution_count": 123,
     "metadata": {},
     "output_type": "execute_result"
    },
    {
     "data": {
      "image/png": "[encoded data removed]",
      "text/plain": [
       "<Figure size 640x480 with 1 Axes>"
      ]
     },
     "metadata": {},
     "output_type": "display_data"
    }
   ],
   "source": [
    "sns.boxplot(x=\"Storage_GB_SSD\", y=\"Price\", data=df)"
   ]
  },
  {
   "cell_type": "markdown",
   "id": "69c27d87-5a72-4d98-9525-da0a87926b35",
   "metadata": {},
   "source": [
    "Laptops with 128GB SSD\n",
    "\n",
    "- Lower median price compared to 256GB models.\n",
    "- Price range is narrow, meaning most 128GB laptops fall within a similar price bracket.\n",
    "- No significant high-end outliers, suggesting these are budget-oriented models.\n",
    "\n",
    "Laptops with 256GB SSD\n",
    "\n",
    "- Higher median price than 128GB models.\n",
    "- Wider price distribution, indicating a mix of mid-range and premium laptops.\n",
    "- Presence of several high-value outliers (above $3000), likely gaming or workstation laptops."
   ]
  },
  {
   "cell_type": "markdown",
   "id": "4e9b9ea8-5ab0-460e-aaf6-5b08d24e658c",
   "metadata": {},
   "source": [
    "# Descriptive Statistical Analysis\n",
    "Generate the statistical description of all the features being used in the data set. Include \"object\" data types as well."
   ]
  },
  {
   "cell_type": "code",
   "execution_count": 128,
   "id": "6f0bd0fe-3ed2-4afc-b31f-4f6c6d8057cd",
   "metadata": {},
   "outputs": [
    {
     "data": {
      "text/html": [
       "<div>\n",
       "<style scoped>\n",
       "    .dataframe tbody tr th:only-of-type {\n",
       "        vertical-align: middle;\n",
       "    }\n",
       "\n",
       "    .dataframe tbody tr th {\n",
       "        vertical-align: top;\n",
       "    }\n",
       "\n",
       "    .dataframe thead th {\n",
       "        text-align: right;\n",
       "    }\n",
       "</style>\n",
       "<table border=\"1\" class=\"dataframe\">\n",
       "  <thead>\n",
       "    <tr style=\"text-align: right;\">\n",
       "      <th></th>\n",
       "      <th>Manufacturer</th>\n",
       "      <th>Category</th>\n",
       "      <th>GPU</th>\n",
       "      <th>OS</th>\n",
       "      <th>CPU_core</th>\n",
       "      <th>Screen_Size_inch</th>\n",
       "      <th>CPU_frequency</th>\n",
       "      <th>RAM_GB</th>\n",
       "      <th>Storage_GB_SSD</th>\n",
       "      <th>Weight_Pounds</th>\n",
       "      <th>Price</th>\n",
       "      <th>Price-binned</th>\n",
       "      <th>Screen_Full_HD</th>\n",
       "      <th>Screen_IPS_Panel</th>\n",
       "    </tr>\n",
       "  </thead>\n",
       "  <tbody>\n",
       "    <tr>\n",
       "      <th>count</th>\n",
       "      <td>238</td>\n",
       "      <td>238.000000</td>\n",
       "      <td>238.000000</td>\n",
       "      <td>238.000000</td>\n",
       "      <td>238.000000</td>\n",
       "      <td>238.000000</td>\n",
       "      <td>238.000000</td>\n",
       "      <td>238.000000</td>\n",
       "      <td>238.000000</td>\n",
       "      <td>238.000000</td>\n",
       "      <td>238.000000</td>\n",
       "      <td>238</td>\n",
       "      <td>238</td>\n",
       "      <td>238</td>\n",
       "    </tr>\n",
       "    <tr>\n",
       "      <th>unique</th>\n",
       "      <td>11</td>\n",
       "      <td>NaN</td>\n",
       "      <td>NaN</td>\n",
       "      <td>NaN</td>\n",
       "      <td>NaN</td>\n",
       "      <td>NaN</td>\n",
       "      <td>NaN</td>\n",
       "      <td>NaN</td>\n",
       "      <td>NaN</td>\n",
       "      <td>NaN</td>\n",
       "      <td>NaN</td>\n",
       "      <td>3</td>\n",
       "      <td>2</td>\n",
       "      <td>2</td>\n",
       "    </tr>\n",
       "    <tr>\n",
       "      <th>top</th>\n",
       "      <td>Dell</td>\n",
       "      <td>NaN</td>\n",
       "      <td>NaN</td>\n",
       "      <td>NaN</td>\n",
       "      <td>NaN</td>\n",
       "      <td>NaN</td>\n",
       "      <td>NaN</td>\n",
       "      <td>NaN</td>\n",
       "      <td>NaN</td>\n",
       "      <td>NaN</td>\n",
       "      <td>NaN</td>\n",
       "      <td>Low</td>\n",
       "      <td>True</td>\n",
       "      <td>False</td>\n",
       "    </tr>\n",
       "    <tr>\n",
       "      <th>freq</th>\n",
       "      <td>71</td>\n",
       "      <td>NaN</td>\n",
       "      <td>NaN</td>\n",
       "      <td>NaN</td>\n",
       "      <td>NaN</td>\n",
       "      <td>NaN</td>\n",
       "      <td>NaN</td>\n",
       "      <td>NaN</td>\n",
       "      <td>NaN</td>\n",
       "      <td>NaN</td>\n",
       "      <td>NaN</td>\n",
       "      <td>160</td>\n",
       "      <td>161</td>\n",
       "      <td>161</td>\n",
       "    </tr>\n",
       "    <tr>\n",
       "      <th>mean</th>\n",
       "      <td>NaN</td>\n",
       "      <td>3.205882</td>\n",
       "      <td>2.151261</td>\n",
       "      <td>1.058824</td>\n",
       "      <td>5.630252</td>\n",
       "      <td>94.765330</td>\n",
       "      <td>0.813822</td>\n",
       "      <td>7.882353</td>\n",
       "      <td>245.781513</td>\n",
       "      <td>4.106221</td>\n",
       "      <td>1462.344538</td>\n",
       "      <td>NaN</td>\n",
       "      <td>NaN</td>\n",
       "      <td>NaN</td>\n",
       "    </tr>\n",
       "    <tr>\n",
       "      <th>std</th>\n",
       "      <td>NaN</td>\n",
       "      <td>0.776533</td>\n",
       "      <td>0.638282</td>\n",
       "      <td>0.235790</td>\n",
       "      <td>1.241787</td>\n",
       "      <td>7.522853</td>\n",
       "      <td>0.141860</td>\n",
       "      <td>2.482603</td>\n",
       "      <td>34.765316</td>\n",
       "      <td>1.078442</td>\n",
       "      <td>574.607699</td>\n",
       "      <td>NaN</td>\n",
       "      <td>NaN</td>\n",
       "      <td>NaN</td>\n",
       "    </tr>\n",
       "    <tr>\n",
       "      <th>min</th>\n",
       "      <td>NaN</td>\n",
       "      <td>1.000000</td>\n",
       "      <td>1.000000</td>\n",
       "      <td>1.000000</td>\n",
       "      <td>3.000000</td>\n",
       "      <td>77.419200</td>\n",
       "      <td>0.413793</td>\n",
       "      <td>4.000000</td>\n",
       "      <td>128.000000</td>\n",
       "      <td>1.786050</td>\n",
       "      <td>527.000000</td>\n",
       "      <td>NaN</td>\n",
       "      <td>NaN</td>\n",
       "      <td>NaN</td>\n",
       "    </tr>\n",
       "    <tr>\n",
       "      <th>25%</th>\n",
       "      <td>NaN</td>\n",
       "      <td>3.000000</td>\n",
       "      <td>2.000000</td>\n",
       "      <td>1.000000</td>\n",
       "      <td>5.000000</td>\n",
       "      <td>90.322400</td>\n",
       "      <td>0.689655</td>\n",
       "      <td>8.000000</td>\n",
       "      <td>256.000000</td>\n",
       "      <td>3.246863</td>\n",
       "      <td>1066.500000</td>\n",
       "      <td>NaN</td>\n",
       "      <td>NaN</td>\n",
       "      <td>NaN</td>\n",
       "    </tr>\n",
       "    <tr>\n",
       "      <th>50%</th>\n",
       "      <td>NaN</td>\n",
       "      <td>3.000000</td>\n",
       "      <td>2.000000</td>\n",
       "      <td>1.000000</td>\n",
       "      <td>5.000000</td>\n",
       "      <td>96.774000</td>\n",
       "      <td>0.862069</td>\n",
       "      <td>8.000000</td>\n",
       "      <td>256.000000</td>\n",
       "      <td>4.106221</td>\n",
       "      <td>1333.000000</td>\n",
       "      <td>NaN</td>\n",
       "      <td>NaN</td>\n",
       "      <td>NaN</td>\n",
       "    </tr>\n",
       "    <tr>\n",
       "      <th>75%</th>\n",
       "      <td>NaN</td>\n",
       "      <td>4.000000</td>\n",
       "      <td>3.000000</td>\n",
       "      <td>1.000000</td>\n",
       "      <td>7.000000</td>\n",
       "      <td>100.644960</td>\n",
       "      <td>0.931034</td>\n",
       "      <td>8.000000</td>\n",
       "      <td>256.000000</td>\n",
       "      <td>4.851000</td>\n",
       "      <td>1777.000000</td>\n",
       "      <td>NaN</td>\n",
       "      <td>NaN</td>\n",
       "      <td>NaN</td>\n",
       "    </tr>\n",
       "    <tr>\n",
       "      <th>max</th>\n",
       "      <td>NaN</td>\n",
       "      <td>5.000000</td>\n",
       "      <td>3.000000</td>\n",
       "      <td>2.000000</td>\n",
       "      <td>7.000000</td>\n",
       "      <td>111.612680</td>\n",
       "      <td>1.000000</td>\n",
       "      <td>16.000000</td>\n",
       "      <td>256.000000</td>\n",
       "      <td>7.938000</td>\n",
       "      <td>3810.000000</td>\n",
       "      <td>NaN</td>\n",
       "      <td>NaN</td>\n",
       "      <td>NaN</td>\n",
       "    </tr>\n",
       "  </tbody>\n",
       "</table>\n",
       "</div>"
      ],
      "text/plain": [
       "       Manufacturer    Category         GPU          OS    CPU_core  \\\n",
       "count           238  238.000000  238.000000  238.000000  238.000000   \n",
       "unique           11         NaN         NaN         NaN         NaN   \n",
       "top            Dell         NaN         NaN         NaN         NaN   \n",
       "freq             71         NaN         NaN         NaN         NaN   \n",
       "mean            NaN    3.205882    2.151261    1.058824    5.630252   \n",
       "std             NaN    0.776533    0.638282    0.235790    1.241787   \n",
       "min             NaN    1.000000    1.000000    1.000000    3.000000   \n",
       "25%             NaN    3.000000    2.000000    1.000000    5.000000   \n",
       "50%             NaN    3.000000    2.000000    1.000000    5.000000   \n",
       "75%             NaN    4.000000    3.000000    1.000000    7.000000   \n",
       "max             NaN    5.000000    3.000000    2.000000    7.000000   \n",
       "\n",
       "        Screen_Size_inch  CPU_frequency      RAM_GB  Storage_GB_SSD  \\\n",
       "count         238.000000     238.000000  238.000000      238.000000   \n",
       "unique               NaN            NaN         NaN             NaN   \n",
       "top                  NaN            NaN         NaN             NaN   \n",
       "freq                 NaN            NaN         NaN             NaN   \n",
       "mean           94.765330       0.813822    7.882353      245.781513   \n",
       "std             7.522853       0.141860    2.482603       34.765316   \n",
       "min            77.419200       0.413793    4.000000      128.000000   \n",
       "25%            90.322400       0.689655    8.000000      256.000000   \n",
       "50%            96.774000       0.862069    8.000000      256.000000   \n",
       "75%           100.644960       0.931034    8.000000      256.000000   \n",
       "max           111.612680       1.000000   16.000000      256.000000   \n",
       "\n",
       "        Weight_Pounds        Price Price-binned Screen_Full_HD  \\\n",
       "count      238.000000   238.000000          238            238   \n",
       "unique            NaN          NaN            3              2   \n",
       "top               NaN          NaN          Low           True   \n",
       "freq              NaN          NaN          160            161   \n",
       "mean         4.106221  1462.344538          NaN            NaN   \n",
       "std          1.078442   574.607699          NaN            NaN   \n",
       "min          1.786050   527.000000          NaN            NaN   \n",
       "25%          3.246863  1066.500000          NaN            NaN   \n",
       "50%          4.106221  1333.000000          NaN            NaN   \n",
       "75%          4.851000  1777.000000          NaN            NaN   \n",
       "max          7.938000  3810.000000          NaN            NaN   \n",
       "\n",
       "       Screen_IPS_Panel  \n",
       "count               238  \n",
       "unique                2  \n",
       "top               False  \n",
       "freq                161  \n",
       "mean                NaN  \n",
       "std                 NaN  \n",
       "min                 NaN  \n",
       "25%                 NaN  \n",
       "50%                 NaN  \n",
       "75%                 NaN  \n",
       "max                 NaN  "
      ]
     },
     "execution_count": 128,
     "metadata": {},
     "output_type": "execute_result"
    }
   ],
   "source": [
    "df.describe(include=\"all\")"
   ]
  },
  {
   "cell_type": "markdown",
   "id": "ede490ea-909f-4264-8bf3-c2268a8dae10",
   "metadata": {},
   "source": [
    "# GroupBy and Pivot Tables\n",
    "Group the parameters \"GPU\", \"CPU_core\" and \"Price\" to make a pivot table and visualize this connection using the pcolor plot."
   ]
  },
  {
   "cell_type": "code",
   "execution_count": 131,
   "id": "b4fb51f9-edc5-4dcd-b815-816419aef8ed",
   "metadata": {},
   "outputs": [
    {
     "data": {
      "text/html": [
       "<div>\n",
       "<style scoped>\n",
       "    .dataframe tbody tr th:only-of-type {\n",
       "        vertical-align: middle;\n",
       "    }\n",
       "\n",
       "    .dataframe tbody tr th {\n",
       "        vertical-align: top;\n",
       "    }\n",
       "\n",
       "    .dataframe thead th {\n",
       "        text-align: right;\n",
       "    }\n",
       "</style>\n",
       "<table border=\"1\" class=\"dataframe\">\n",
       "  <thead>\n",
       "    <tr style=\"text-align: right;\">\n",
       "      <th></th>\n",
       "      <th>GPU</th>\n",
       "      <th>CPU_core</th>\n",
       "      <th>Price</th>\n",
       "    </tr>\n",
       "  </thead>\n",
       "  <tbody>\n",
       "    <tr>\n",
       "      <th>0</th>\n",
       "      <td>1</td>\n",
       "      <td>3</td>\n",
       "      <td>769.250000</td>\n",
       "    </tr>\n",
       "    <tr>\n",
       "      <th>1</th>\n",
       "      <td>1</td>\n",
       "      <td>5</td>\n",
       "      <td>998.500000</td>\n",
       "    </tr>\n",
       "    <tr>\n",
       "      <th>2</th>\n",
       "      <td>1</td>\n",
       "      <td>7</td>\n",
       "      <td>1167.941176</td>\n",
       "    </tr>\n",
       "    <tr>\n",
       "      <th>3</th>\n",
       "      <td>2</td>\n",
       "      <td>3</td>\n",
       "      <td>785.076923</td>\n",
       "    </tr>\n",
       "    <tr>\n",
       "      <th>4</th>\n",
       "      <td>2</td>\n",
       "      <td>5</td>\n",
       "      <td>1462.197674</td>\n",
       "    </tr>\n",
       "    <tr>\n",
       "      <th>5</th>\n",
       "      <td>2</td>\n",
       "      <td>7</td>\n",
       "      <td>1744.621622</td>\n",
       "    </tr>\n",
       "    <tr>\n",
       "      <th>6</th>\n",
       "      <td>3</td>\n",
       "      <td>3</td>\n",
       "      <td>784.000000</td>\n",
       "    </tr>\n",
       "    <tr>\n",
       "      <th>7</th>\n",
       "      <td>3</td>\n",
       "      <td>5</td>\n",
       "      <td>1220.680000</td>\n",
       "    </tr>\n",
       "    <tr>\n",
       "      <th>8</th>\n",
       "      <td>3</td>\n",
       "      <td>7</td>\n",
       "      <td>1945.097561</td>\n",
       "    </tr>\n",
       "  </tbody>\n",
       "</table>\n",
       "</div>"
      ],
      "text/plain": [
       "   GPU  CPU_core        Price\n",
       "0    1         3   769.250000\n",
       "1    1         5   998.500000\n",
       "2    1         7  1167.941176\n",
       "3    2         3   785.076923\n",
       "4    2         5  1462.197674\n",
       "5    2         7  1744.621622\n",
       "6    3         3   784.000000\n",
       "7    3         5  1220.680000\n",
       "8    3         7  1945.097561"
      ]
     },
     "execution_count": 131,
     "metadata": {},
     "output_type": "execute_result"
    }
   ],
   "source": [
    "df_gptest = df[['GPU','CPU_core','Price']]\n",
    "grouped_test1 = df_gptest.groupby(['GPU','CPU_core'],as_index=False).mean()\n",
    "grouped_test1 "
   ]
  },
  {
   "cell_type": "code",
   "execution_count": 133,
   "id": "b1f69070-c29a-4cbb-b03f-3a82e785f58c",
   "metadata": {},
   "outputs": [
    {
     "data": {
      "text/html": [
       "<div>\n",
       "<style scoped>\n",
       "    .dataframe tbody tr th:only-of-type {\n",
       "        vertical-align: middle;\n",
       "    }\n",
       "\n",
       "    .dataframe tbody tr th {\n",
       "        vertical-align: top;\n",
       "    }\n",
       "\n",
       "    .dataframe thead tr th {\n",
       "        text-align: left;\n",
       "    }\n",
       "\n",
       "    .dataframe thead tr:last-of-type th {\n",
       "        text-align: right;\n",
       "    }\n",
       "</style>\n",
       "<table border=\"1\" class=\"dataframe\">\n",
       "  <thead>\n",
       "    <tr>\n",
       "      <th></th>\n",
       "      <th colspan=\"3\" halign=\"left\">Price</th>\n",
       "    </tr>\n",
       "    <tr>\n",
       "      <th>CPU_core</th>\n",
       "      <th>3</th>\n",
       "      <th>5</th>\n",
       "      <th>7</th>\n",
       "    </tr>\n",
       "    <tr>\n",
       "      <th>GPU</th>\n",
       "      <th></th>\n",
       "      <th></th>\n",
       "      <th></th>\n",
       "    </tr>\n",
       "  </thead>\n",
       "  <tbody>\n",
       "    <tr>\n",
       "      <th>1</th>\n",
       "      <td>769.250000</td>\n",
       "      <td>998.500000</td>\n",
       "      <td>1167.941176</td>\n",
       "    </tr>\n",
       "    <tr>\n",
       "      <th>2</th>\n",
       "      <td>785.076923</td>\n",
       "      <td>1462.197674</td>\n",
       "      <td>1744.621622</td>\n",
       "    </tr>\n",
       "    <tr>\n",
       "      <th>3</th>\n",
       "      <td>784.000000</td>\n",
       "      <td>1220.680000</td>\n",
       "      <td>1945.097561</td>\n",
       "    </tr>\n",
       "  </tbody>\n",
       "</table>\n",
       "</div>"
      ],
      "text/plain": [
       "               Price                          \n",
       "CPU_core           3            5            7\n",
       "GPU                                           \n",
       "1         769.250000   998.500000  1167.941176\n",
       "2         785.076923  1462.197674  1744.621622\n",
       "3         784.000000  1220.680000  1945.097561"
      ]
     },
     "execution_count": 133,
     "metadata": {},
     "output_type": "execute_result"
    }
   ],
   "source": [
    "grp_pivot=grouped_test1.pivot(index='GPU',columns='CPU_core')\n",
    "grp_pivot"
   ]
  },
  {
   "cell_type": "code",
   "execution_count": 135,
   "id": "ab41426b-633c-4a60-8f34-59f0cafe52dc",
   "metadata": {},
   "outputs": [
    {
     "data": {
      "text/plain": [
       "<matplotlib.colorbar.Colorbar at 0x18a154e3740>"
      ]
     },
     "execution_count": 135,
     "metadata": {},
     "output_type": "execute_result"
    },
    {
     "data": {
      "image/png": "[encoded data removed]",
      "text/plain": [
       "<Figure size 640x480 with 2 Axes>"
      ]
     },
     "metadata": {},
     "output_type": "display_data"
    }
   ],
   "source": [
    "# Create the Plot\n",
    "\n",
    "fig, ax = plt.subplots()\n",
    "im = ax.pcolor(grp_pivot, cmap='RdBu')\n",
    "\n",
    "#label names\n",
    "row_labels = grp_pivot.columns.levels[1]\n",
    "col_labels = grp_pivot.index\n",
    "\n",
    "#move ticks and labels to the center\n",
    "ax.set_xticks(np.arange(grp_pivot.shape[1]) + 0.5, minor=False)\n",
    "ax.set_yticks(np.arange(grp_pivot.shape[0]) + 0.5, minor=False)\n",
    "\n",
    "#insert labels\n",
    "ax.set_xticklabels(row_labels, minor=False)\n",
    "ax.set_yticklabels(col_labels, minor=False)\n",
    "\n",
    "fig.colorbar(im)"
   ]
  },
  {
   "cell_type": "markdown",
   "id": "6b21d494-c713-4d6c-8ca0-9149eaecc2dc",
   "metadata": {},
   "source": [
    "# Pearson Correlation and p-values"
   ]
  },
  {
   "cell_type": "code",
   "execution_count": 138,
   "id": "ded99113-d2fe-46b4-a71f-83582fbe13d7",
   "metadata": {},
   "outputs": [],
   "source": [
    "from scipy import stats"
   ]
  },
  {
   "cell_type": "code",
   "execution_count": 140,
   "id": "72733745-4ad3-422b-b81f-75e831ae974c",
   "metadata": {},
   "outputs": [
    {
     "name": "stdout",
     "output_type": "stream",
     "text": [
      "RAM_GB\n",
      "The Pearson Correlation Coefficient for  RAM_GB  is 0.5492972971857841  with a P-value of P = 3.6815606288429613e-20\n",
      "CPU_frequency\n",
      "The Pearson Correlation Coefficient for  CPU_frequency  is 0.36666555892588604  with a P-value of P = 5.5024633507134225e-09\n",
      "Storage_GB_SSD\n",
      "The Pearson Correlation Coefficient for  Storage_GB_SSD  is 0.24342075521810294  with a P-value of P = 0.00014898923191724174\n",
      "Screen_Size_inch\n",
      "The Pearson Correlation Coefficient for  Screen_Size_inch  is -0.11064420817118291  with a P-value of P = 0.08853397846830666\n",
      "Weight_Pounds\n",
      "The Pearson Correlation Coefficient for  Weight_Pounds  is -0.050312258377515455  with a P-value of P = 0.43976938534338944\n",
      "CPU_core\n",
      "The Pearson Correlation Coefficient for  CPU_core  is 0.45939777733551157  with a P-value of P = 7.912950127009034e-14\n",
      "OS\n",
      "The Pearson Correlation Coefficient for  OS  is -0.2217298011482738  with a P-value of P = 0.0005696642559246749\n",
      "GPU\n",
      "The Pearson Correlation Coefficient for  GPU  is 0.2882981988881428  with a P-value of P = 6.166949698364282e-06\n",
      "Category\n",
      "The Pearson Correlation Coefficient for  Category  is 0.28624275581264125  with a P-value of P = 7.225696235806733e-06\n"
     ]
    }
   ],
   "source": [
    "for param in ['RAM_GB','CPU_frequency','Storage_GB_SSD','Screen_Size_inch','Weight_Pounds','CPU_core','OS','GPU','Category']:\n",
    "    pearson_coef, p_value = stats.pearsonr(df[param], df['Price'])\n",
    "    print(param)\n",
    "    print(\"The Pearson Correlation Coefficient for \",param,\" is\", pearson_coef, \" with a P-value of P =\", p_value)"
   ]
  },
  {
   "cell_type": "markdown",
   "id": "f4c9c0b9-2be0-43e6-a5b9-83bb9a72114b",
   "metadata": {},
   "source": [
    "✅ RAM and CPU specifications are the most important factors influencing laptop price.\n",
    "\n",
    "✅ GPU, storage, and laptop category also play a role, but to a lesser extent.\n",
    "\n",
    "✅ Screen size and weight do not significantly affect pricing.\n",
    "\n",
    "✅ The operating system shows a slight negative impact on price, possibly due to budget models running Linux or ChromeOS."
   ]
  },
  {
   "cell_type": "markdown",
   "id": "4e74ee1f-025d-4219-b2c0-1674154e9413",
   "metadata": {},
   "source": [
    "# Model Development"
   ]
  },
  {
   "cell_type": "markdown",
   "id": "f15cb2df-ecd9-4476-b87e-178225de8fe9",
   "metadata": {},
   "source": [
    "- Use Linear Regression in one variable to fit the parameters to a model\n",
    "- Use Linear Regression in multiple variables to fit the parameters to a model\n",
    "- Use Polynomial Regression in single variable tofit the parameters to a model\n",
    "- Create a pipeline for performing linear regression using multiple features in polynomial scaling\n",
    "- Evaluate the performance of different forms of regression on basis of MSE and R^2 parameters"
   ]
  },
  {
   "cell_type": "markdown",
   "id": "4f06a0e0-370f-435d-b179-d893da864556",
   "metadata": {},
   "source": [
    "# Single Linear Regression\n",
    "You have learnt that \"CPU_frequency\" is the parameter with the lowest p-value among the different features of the dataset. Create a single feature Linear Regression model that fits the pair of \"CPU_frequency\" and \"Price\" to find the model for prediction."
   ]
  },
  {
   "cell_type": "code",
   "execution_count": 146,
   "id": "89f13880-2362-4bb7-b2ea-aa126f28b943",
   "metadata": {},
   "outputs": [],
   "source": [
    "from sklearn.linear_model import LinearRegression"
   ]
  },
  {
   "cell_type": "code",
   "execution_count": 147,
   "id": "04b901b8-0e65-4e34-90ae-c0c4ddc3bd2d",
   "metadata": {},
   "outputs": [
    {
     "data": {
      "text/plain": [
       "array([1073.07834392, 1277.93263722, 1636.42765051, 1073.07834392,\n",
       "       1175.50549057])"
      ]
     },
     "execution_count": 147,
     "metadata": {},
     "output_type": "execute_result"
    }
   ],
   "source": [
    "lm=LinearRegression()\n",
    "X=df[['CPU_frequency']]\n",
    "Y=df['Price']\n",
    "lm.fit(X,Y)\n",
    "Yhat=lm.predict(X)\n",
    "Yhat[0:5]"
   ]
  },
  {
   "cell_type": "markdown",
   "id": "401e3a1d-a354-47f0-8bc9-662780549269",
   "metadata": {},
   "source": [
    "Generate the Distribution plot for the predicted values and that of the actual values. How well did the model perform?"
   ]
  },
  {
   "cell_type": "code",
   "execution_count": 151,
   "id": "cec8b92c-796f-4e3a-8f58-531d3d5e60c9",
   "metadata": {},
   "outputs": [
    {
     "name": "stderr",
     "output_type": "stream",
     "text": [
      "C:\\Users\\zahee\\AppData\\Local\\Temp\\ipykernel_28052\\1711156365.py:1: UserWarning: \n",
      "\n",
      "`distplot` is a deprecated function and will be removed in seaborn v0.14.0.\n",
      "\n",
      "Please adapt your code to use either `displot` (a figure-level function with\n",
      "similar flexibility) or `kdeplot` (an axes-level function for kernel density plots).\n",
      "\n",
      "For a guide to updating your code to use the new functions, please see\n",
      "https://gist.github.com/mwaskom/de44147ed2974457ad6372750bbe5751\n",
      "\n",
      "  ax1=sns.distplot(df['Price'],hist=False,color='r',label='Actual Values')\n",
      "C:\\Users\\zahee\\AppData\\Local\\Temp\\ipykernel_28052\\1711156365.py:2: UserWarning: \n",
      "\n",
      "`distplot` is a deprecated function and will be removed in seaborn v0.14.0.\n",
      "\n",
      "Please adapt your code to use either `displot` (a figure-level function with\n",
      "similar flexibility) or `kdeplot` (an axes-level function for kernel density plots).\n",
      "\n",
      "For a guide to updating your code to use the new functions, please see\n",
      "https://gist.github.com/mwaskom/de44147ed2974457ad6372750bbe5751\n",
      "\n",
      "  sns.distplot(Yhat,hist=False,color='b',label='Fitted Values',ax=ax1)\n"
     ]
    },
    {
     "data": {
      "image/png": "[encoded data removed]",
      "text/plain": [
       "<Figure size 640x480 with 1 Axes>"
      ]
     },
     "metadata": {},
     "output_type": "display_data"
    }
   ],
   "source": [
    "ax1=sns.distplot(df['Price'],hist=False,color='r',label='Actual Values')\n",
    "sns.distplot(Yhat,hist=False,color='b',label='Fitted Values',ax=ax1)\n",
    "plt.title('Actual vs Fitted Values for Price')\n",
    "plt.xlabel('Price')\n",
    "plt.ylabel('Proportion of laptops')\n",
    "plt.legend(['Actual Value', 'Predicted Value'])\n",
    "plt.show()"
   ]
  },
  {
   "cell_type": "markdown",
   "id": "83b59bd0-92a6-4796-b0aa-8ec5b59df031",
   "metadata": {},
   "source": [
    "- The actual price distribution (red line) is wider and more spread out.\n",
    "- The predicted price distribution (blue line) is sharply concentrated around certain price points.\n",
    "- This suggests the model isn’t capturing price variations well, possibly underestimating high-end and low-end laptop prices.\n",
    "- The blue peaks are narrower, meaning the model is overconfident about certain price ranges.\n",
    "- The model fails to generalize to the entire price range properly.\n",
    "- The model might be overfitting to a limited pattern in the training data.\n",
    "- Feature selection or transformations might need adjustment to capture the full price distribution."
   ]
  },
  {
   "cell_type": "code",
   "execution_count": 154,
   "id": "87402f81-34d6-4f44-abfa-3360558b930b",
   "metadata": {},
   "outputs": [],
   "source": [
    "from sklearn.metrics import mean_squared_error, r2_score"
   ]
  },
  {
   "cell_type": "code",
   "execution_count": 156,
   "id": "def244d1-4288-44b7-b62b-c1e767f66ddd",
   "metadata": {},
   "outputs": [
    {
     "name": "stdout",
     "output_type": "stream",
     "text": [
      "The R-square for Linear Regression is:  0.1344436321024326\n",
      "The mean square error of price and predicted value is:  284583.4405868629\n"
     ]
    }
   ],
   "source": [
    "#Evaluate the Mean Squared Error and R^2 score values for the model.\n",
    "mse_slr = mean_squared_error(df['Price'], Yhat)\n",
    "r2_score_slr = lm.score(X, Y)\n",
    "print('The R-square for Linear Regression is: ', r2_score_slr)\n",
    "print('The mean square error of price and predicted value is: ', mse_slr)"
   ]
  },
  {
   "cell_type": "markdown",
   "id": "1182023d-3a05-424e-8064-7015171b51fd",
   "metadata": {},
   "source": [
    "Mean Squared Error (MSE): 161680.5726 🔺 (High error indicates poor predictions)\n",
    "\n",
    "R-squared (R²) Score: 0.134 ❌ (Very low, meaning the model explains only 13.4% of the variance in price, 86.6% of the variance remains unexplained) "
   ]
  },
  {
   "cell_type": "markdown",
   "id": "71265d60-efdc-45f7-adc3-94e8d9d8511e",
   "metadata": {},
   "source": [
    "# Multiple Linear Regression\n",
    "\n",
    "The parameters which have a low enough p-value so as to indicate strong relationship with the 'Price' value are 'CPU_frequency', 'RAM_GB', 'Storage_GB_SSD', 'CPU_core', 'OS', 'GPU' and 'Category'. Use all these variables to create a Multiple Linear Regression system."
   ]
  },
  {
   "cell_type": "code",
   "execution_count": 160,
   "id": "a4b55cbf-b96f-4213-8d8b-5a6b9a8665db",
   "metadata": {},
   "outputs": [
    {
     "data": {
      "text/plain": [
       "array([1345.51622771,  710.44905496, 1552.37242687, 1295.00681012,\n",
       "       1543.13847022])"
      ]
     },
     "execution_count": 160,
     "metadata": {},
     "output_type": "execute_result"
    }
   ],
   "source": [
    "lm1=LinearRegression()\n",
    "Z=df[['CPU_frequency', 'RAM_GB', 'Storage_GB_SSD', 'CPU_core', 'OS', 'GPU','Category']]\n",
    "lm1.fit(Z,df['Price'])\n",
    "Yhat=lm1.predict(Z)\n",
    "Yhat[0:5]"
   ]
  },
  {
   "cell_type": "code",
   "execution_count": 162,
   "id": "5183d7e1-592b-4da2-a696-c403886e06f0",
   "metadata": {},
   "outputs": [
    {
     "name": "stderr",
     "output_type": "stream",
     "text": [
      "C:\\Users\\zahee\\AppData\\Local\\Temp\\ipykernel_28052\\3230932049.py:1: UserWarning: \n",
      "\n",
      "`distplot` is a deprecated function and will be removed in seaborn v0.14.0.\n",
      "\n",
      "Please adapt your code to use either `displot` (a figure-level function with\n",
      "similar flexibility) or `kdeplot` (an axes-level function for kernel density plots).\n",
      "\n",
      "For a guide to updating your code to use the new functions, please see\n",
      "https://gist.github.com/mwaskom/de44147ed2974457ad6372750bbe5751\n",
      "\n",
      "  ax1 = sns.distplot(df['Price'], hist=False, color=\"r\", label=\"Actual Value\")\n",
      "C:\\Users\\zahee\\AppData\\Local\\Temp\\ipykernel_28052\\3230932049.py:2: UserWarning: \n",
      "\n",
      "`distplot` is a deprecated function and will be removed in seaborn v0.14.0.\n",
      "\n",
      "Please adapt your code to use either `displot` (a figure-level function with\n",
      "similar flexibility) or `kdeplot` (an axes-level function for kernel density plots).\n",
      "\n",
      "For a guide to updating your code to use the new functions, please see\n",
      "https://gist.github.com/mwaskom/de44147ed2974457ad6372750bbe5751\n",
      "\n",
      "  sns.distplot(Yhat, hist=False, color=\"b\", label=\"Fitted Values\" , ax=ax1)\n"
     ]
    },
    {
     "data": {
      "text/plain": [
       "<matplotlib.legend.Legend at 0x18a170bb680>"
      ]
     },
     "execution_count": 162,
     "metadata": {},
     "output_type": "execute_result"
    },
    {
     "data": {
      "image/png": "[encoded data removed]",
      "text/plain": [
       "<Figure size 640x480 with 1 Axes>"
      ]
     },
     "metadata": {},
     "output_type": "display_data"
    }
   ],
   "source": [
    "ax1 = sns.distplot(df['Price'], hist=False, color=\"r\", label=\"Actual Value\")\n",
    "sns.distplot(Yhat, hist=False, color=\"b\", label=\"Fitted Values\" , ax=ax1)\n",
    "\n",
    "plt.title('Actual vs Fitted Values for Price')\n",
    "plt.xlabel('Price')\n",
    "plt.ylabel('Proportion of laptops')\n",
    "plt.legend(['Actual Value','Predicted Value'])"
   ]
  },
  {
   "cell_type": "markdown",
   "id": "a5bdd747-69be-4a54-9d3f-5e5ec1c5df1b",
   "metadata": {},
   "source": [
    "- The red line (Actual Prices) is more spread out than the blue line (Predicted Prices).\n",
    "\n",
    "- The model underestimates higher-priced laptops (since the blue line drops off earlier).\n",
    "\n",
    "- The peak of predictions is slightly shifted left compared to the actual distribution, meaning it tends to predict lower values overall.\n",
    "\n",
    "- Still a mismatch at higher price ranges, meaning the model struggles with expensive laptops.\n",
    "\n",
    "- Try Polynomial Regression or Random Forest/XGBoost to capture complex price patterns.\n"
   ]
  },
  {
   "cell_type": "code",
   "execution_count": 165,
   "id": "162a89c8-4537-4813-aeed-f25d4156900a",
   "metadata": {},
   "outputs": [
    {
     "name": "stdout",
     "output_type": "stream",
     "text": [
      "The mean squared error is: 161680.57263893107\n",
      "The R-Squared error is: 0.5082509055187374\n"
     ]
    }
   ],
   "source": [
    "mse=mean_squared_error(df['Price'],Yhat)\n",
    "print(\"The mean squared error is:\",mse)\n",
    "r2=lm1.score(Z,df['Price'])\n",
    "print(\"The R-Squared error is:\",r2)"
   ]
  },
  {
   "cell_type": "markdown",
   "id": "542619b9-444e-4120-9e0e-764f70c942f1",
   "metadata": {},
   "source": [
    "1️⃣ Mean Squared Error (MSE): 161,680.57\n",
    "\n",
    "- This represents the average squared difference between actual and predicted laptop prices.\n",
    "- The lower the MSE, the better, and this is an improvement from the previous 284,583.44\n",
    "\n",
    "2️⃣ R-Squared Score (R²): 0.508\n",
    "\n",
    "- This means that 50.8% of the variation in laptop prices is explained by the model's features.\n",
    "- While better than the previous 0.134, it still leaves 49.2% of price variations unexplained, meaning the model can be further improved."
   ]
  },
  {
   "cell_type": "markdown",
   "id": "a46c6cd4-8e8b-4bc4-96b9-8fdd65813605",
   "metadata": {},
   "source": [
    "# Polynomial Regression"
   ]
  },
  {
   "cell_type": "markdown",
   "id": "728568c7-1396-4cb8-80e5-8d1f8c1a8001",
   "metadata": {},
   "source": [
    "Use the variable \"CPU_frequency\" to create Polynomial features. Try this for 3 different values of polynomial degrees. Remember that polynomial fits are done using numpy.polyfit."
   ]
  },
  {
   "cell_type": "code",
   "execution_count": 170,
   "id": "3d529300-05b6-4a6e-b3b9-fbc13b379d37",
   "metadata": {},
   "outputs": [],
   "source": [
    "#1️⃣ Convert X to a NumPy Array and Flatten It\n",
    "#If X is a Pandas Series or DataFrame, .to_numpy() converts it into a NumPy array.\n",
    "#.flatten() ensures X is a 1D array, which is required for polynomial fitting.\n",
    "X=X.to_numpy().flatten()\n",
    "\n",
    "#Fit a linear model degree 1\n",
    "#np.polyfit(X, Y, 1): Fits a 1st-degree polynomial (linear regression).\n",
    "#np.poly1d(f1): Creates a polynomial function p1(x) = aX + b\n",
    "f1=np.polyfit(X,Y,1)\n",
    "p1=np.poly1d(f1)\n",
    "\n",
    "#Fit a Cubic Model (Degree 3)\n",
    "#np.polyfit(X, Y, 3): Fits a 3rd-degree polynomial (captures more complex trends).\n",
    "#np.poly1d(f3): Generates the polynomial equation p3(x) = aX³ + bX² + cX + d.\n",
    "f3 = np.polyfit(X, Y, 3)\n",
    "p3 = np.poly1d(f3)\n",
    "\n",
    "#Fit a Quintic Model (Degree 5)\n",
    "#np.polyfit(X, Y, 5): Fits a 5th-degree polynomial (even more complex curve).\n",
    "#np.poly1d(f5): Returns the polynomial function p5(x) = aX⁵ + bX⁴ + cX³ + dX² + eX + f.\n",
    "f5 = np.polyfit(X, Y, 5)\n",
    "p5 = np.poly1d(f5)\n",
    "\n"
   ]
  },
  {
   "cell_type": "code",
   "execution_count": 172,
   "id": "b703428c-45b3-4cf5-9b98-94a48f0f59ba",
   "metadata": {},
   "outputs": [],
   "source": [
    "def PlotPolly(model, independent_variable, dependent_variabble, Name):\n",
    "    x_new = np.linspace(independent_variable.min(),independent_variable.max(),100)\n",
    "    y_new = model(x_new)\n",
    "\n",
    "    plt.plot(independent_variable, dependent_variabble, '.', x_new, y_new, '-')\n",
    "    plt.title(f'Polynomial Fit for Price ~ {Name}')\n",
    "    ax = plt.gca()\n",
    "    ax.set_facecolor((0.898, 0.898, 0.898))\n",
    "    fig = plt.gcf()\n",
    "    plt.xlabel(Name)\n",
    "    plt.ylabel('Price of laptops')"
   ]
  },
  {
   "cell_type": "code",
   "execution_count": 174,
   "id": "f6fe0bec-d2d7-43fd-af5d-37464ab26631",
   "metadata": {},
   "outputs": [
    {
     "data": {
      "image/png": "[encoded data removed]",
      "text/plain": [
       "<Figure size 640x480 with 1 Axes>"
      ]
     },
     "metadata": {},
     "output_type": "display_data"
    }
   ],
   "source": [
    "PlotPolly(p1, X, Y, 'CPU_frequency')"
   ]
  },
  {
   "cell_type": "code",
   "execution_count": 175,
   "id": "eaff2616-133c-4bd8-86c2-019177d1eea0",
   "metadata": {},
   "outputs": [
    {
     "data": {
      "image/png": "[encoded data removed]",
      "text/plain": [
       "<Figure size 640x480 with 1 Axes>"
      ]
     },
     "metadata": {},
     "output_type": "display_data"
    }
   ],
   "source": [
    "PlotPolly(p3, X, Y, 'CPU_frequency')"
   ]
  },
  {
   "cell_type": "code",
   "execution_count": 177,
   "id": "23aff88c-ae70-46fb-832a-51101a28036c",
   "metadata": {},
   "outputs": [
    {
     "data": {
      "image/png": "[encoded data removed]",
      "text/plain": [
       "<Figure size 640x480 with 1 Axes>"
      ]
     },
     "metadata": {},
     "output_type": "display_data"
    }
   ],
   "source": [
    "PlotPolly(p5, X, Y, 'CPU_frequency')"
   ]
  },
  {
   "cell_type": "code",
   "execution_count": 179,
   "id": "ad264b54-6bdf-45a2-824b-2175b813ac90",
   "metadata": {},
   "outputs": [
    {
     "name": "stdout",
     "output_type": "stream",
     "text": [
      "The R-square value for 1st degree polynomial is:  0.13444363210243238\n",
      "The MSE value for 1st degree polynomial is:  284583.44058686297\n",
      "The R-square value for 3rd degree polynomial is:  0.266926407965312\n",
      "The MSE value for 3rd degree polynomial is:  241024.8630384874\n",
      "The R-square value for 5th degree polynomial is:  0.30308227064424376\n",
      "The MSE value for 5th degree polynomial is:  229137.29548058315\n"
     ]
    }
   ],
   "source": [
    "r_squared_1 = r2_score(Y, p1(X))\n",
    "print('The R-square value for 1st degree polynomial is: ', r_squared_1)\n",
    "print('The MSE value for 1st degree polynomial is: ', mean_squared_error(Y,p1(X)))\n",
    "r_squared_3 = r2_score(Y, p3(X))\n",
    "print('The R-square value for 3rd degree polynomial is: ', r_squared_3)\n",
    "print('The MSE value for 3rd degree polynomial is: ', mean_squared_error(Y,p3(X)))\n",
    "r_squared_5 = r2_score(Y, p5(X))\n",
    "print('The R-square value for 5th degree polynomial is: ', r_squared_5)\n",
    "print('The MSE value for 5th degree polynomial is: ', mean_squared_error(Y,p5(X)))"
   ]
  },
  {
   "cell_type": "markdown",
   "id": "0861d342-8e98-49d2-aaa4-0267c4101bef",
   "metadata": {},
   "source": [
    "1st Degree Polynomial (Linear Model) \n",
    "\n",
    "R² = 0.1344 (13.44%)\n",
    "\n",
    "MSE = 284,583.44\n",
    "\n",
    "📌 Interpretation:\n",
    "- The R² score is low, meaning the model explains only 13.44% of the variation in the price.\n",
    "- The MSE is quite high, indicating a high prediction error.\n",
    "- This suggests that a simple linear relationship is not sufficient to capture the price trends.\n",
    "\n",
    "3rd Degree Polynomial (Cubic Model)\n",
    "\n",
    "R² = 0.2669 (26.69%)\n",
    "\n",
    "MSE = 241,024.86\n",
    "\n",
    "📌 Interpretation:\n",
    "- The R² score has improved, meaning the model now explains 26.69% of the variation in price.\n",
    "- MSE has decreased, indicating lower prediction error compared to the linear model.\n",
    "- The cubic model captures nonlinear patterns better, improving performance.\n",
    "\n",
    "5th Degree Polynomial (Quintic Model)\n",
    "\n",
    "R² = 0.3080 (30.80%)\n",
    "\n",
    "MSE = 229,137.29\n",
    "\n",
    "📌 Interpretation:\n",
    "- The R² has increased further, meaning this model explains 30.80% of the variation in price.\n",
    "- The MSE has dropped, meaning the predictions are more accurate compared to lower-degree models.\n",
    "- The 5th-degree polynomial captures more complexity, but it may also be overfitting the training data.\n",
    "\n",
    "- Higher-degree polynomials improve performance, but there’s still a lot of unexplained variation in price.\n",
    "- R² is still low (~30%), meaning the model is not capturing all important factors.\n",
    "\n",
    "🔍 MSE is decreasing, indicating better predictions, but the improvement from 3rd to 5th degree is small.\n",
    "\n",
    "⚠️ Risk of Overfitting: The 5th-degree polynomial might be too complex for real-world predictions."
   ]
  },
  {
   "cell_type": "markdown",
   "id": "127bca2c-89d1-48ce-bcf0-451f6965a00c",
   "metadata": {},
   "source": [
    "# Pipeline"
   ]
  },
  {
   "cell_type": "markdown",
   "id": "f05b1064-d7b8-44e1-a53e-e79eac57c80d",
   "metadata": {},
   "source": [
    "Create a pipeline that performs parameter scaling, Polynomial Feature generation and Linear regression. Use the set of multiple features as before to create this pipeline"
   ]
  },
  {
   "cell_type": "code",
   "execution_count": 184,
   "id": "f6365c14-04fc-4535-bffb-6c0099871dea",
   "metadata": {},
   "outputs": [],
   "source": [
    "from sklearn.preprocessing import StandardScaler, PolynomialFeatures\n",
    "from sklearn.pipeline import Pipeline"
   ]
  },
  {
   "cell_type": "code",
   "execution_count": 186,
   "id": "05111418-c1c1-4099-818f-c9cf3e4f4402",
   "metadata": {},
   "outputs": [],
   "source": [
    "Input=[('scale',StandardScaler()), ('polynomial', PolynomialFeatures(include_bias=False)), ('model',LinearRegression())]\n",
    "pipe=Pipeline(Input)\n",
    "Z = Z.astype(float)\n",
    "pipe.fit(Z,Y)\n",
    "ypipe=pipe.predict(Z)"
   ]
  },
  {
   "cell_type": "code",
   "execution_count": 187,
   "id": "2a93f767-24e0-47c0-9483-116f3889d7a0",
   "metadata": {},
   "outputs": [
    {
     "name": "stdout",
     "output_type": "stream",
     "text": [
      "MSE for multi-variable polynomial pipeline is:  223437.69957983194\n",
      "R^2 for multi-variable polynomial pipeline is:  0.3204175081273689\n"
     ]
    }
   ],
   "source": [
    "print('MSE for multi-variable polynomial pipeline is: ', mean_squared_error(Y, ypipe))\n",
    "print('R^2 for multi-variable polynomial pipeline is: ', r2_score(Y, ypipe))"
   ]
  },
  {
   "cell_type": "markdown",
   "id": "ce354029-8ba3-460b-bd49-beeddde9161a",
   "metadata": {},
   "source": [
    "✅ Best Model So Far – The multi-variable polynomial model has the lowest MSE and highest R².\n",
    "    \n",
    "✅ More Features Improved Accuracy – Using multiple features improved the model’s ability to explain price variation.\n",
    "    \n",
    "⚠️ Still Room for Improvement – R² = 32.04% is better but still relatively low, meaning more influential factors might be missing."
   ]
  },
  {
   "cell_type": "markdown",
   "id": "48e7bfea-0c56-46c4-9e5e-c18f9a127588",
   "metadata": {},
   "source": [
    "Model Type\t                       \n",
    "1st Degree (Linear)      \tR² Score\t 0.1344\t              MSE 284,583.44\n",
    "\n",
    "3rd Degree Polynomial          R² 0.2669\t         MSE  241,024.86\n",
    "\n",
    "5th Degree Polynomial\t    R² 0.3080\t          MSE 229,137.29\n",
    "\n",
    "Multi-Variable Polynomial\tR² 0.3204 ✅\t   MSE223,437.70 ✅"
   ]
  },
  {
   "cell_type": "markdown",
   "id": "c8ebf375-bb91-48d7-96cd-78096a41257d",
   "metadata": {},
   "source": [
    "# Model Evaluation and Refinement"
   ]
  },
  {
   "cell_type": "markdown",
   "id": "a2a5b53a-3a7c-4d3c-8e84-c3ce40470ee0",
   "metadata": {},
   "source": [
    "- Use training, testing and cross validation to improve the performance of the dataset.\n",
    "- Identify the point of overfitting of a model\n",
    "- Use Ridge Regression to identify the change in performance of a model based on its hyperparameters\n",
    "- Use Grid Search to identify the best performing model using different hyperparameters"
   ]
  },
  {
   "cell_type": "code",
   "execution_count": 195,
   "id": "d828395f-ba94-4e76-ab7b-0c114a7c0aa3",
   "metadata": {},
   "outputs": [
    {
     "name": "stdout",
     "output_type": "stream",
     "text": [
      "Note: you may need to restart the kernel to use updated packages.\n"
     ]
    },
    {
     "name": "stderr",
     "output_type": "stream",
     "text": [
      "ERROR: Could not find a version that satisfies the requirement piplite (from versions: none)\n",
      "ERROR: No matching distribution found for piplite\n"
     ]
    }
   ],
   "source": [
    "%pip install piplite"
   ]
  },
  {
   "cell_type": "markdown",
   "id": "004dce42-598c-4161-888f-20ef6ee84162",
   "metadata": {},
   "source": [
    "# Cross validation to improve the model\n",
    "\n",
    "<h4>Cross-Fold Validation (or Cross-Validation, CV) is a technique used to evaluate the performance of a machine learning model by splitting the dataset into multiple subsets (or \"folds\"). It helps assess how well a model generalizes to unseen data.</h4>\n",
    "Divide the dataset into x_data and y_data parameters. Here y_data is the \"Price\" attribute, and x_data has all other attributes in the data set."
   ]
  },
  {
   "cell_type": "code",
   "execution_count": 207,
   "id": "35eedfa7-af25-4873-be45-bbdd4366cd1d",
   "metadata": {},
   "outputs": [],
   "source": [
    "from sklearn.model_selection import train_test_split, cross_val_score, GridSearchCV\n",
    "from sklearn.linear_model import LinearRegression, Ridge\n",
    "from sklearn.preprocessing import PolynomialFeatures"
   ]
  },
  {
   "cell_type": "code",
   "execution_count": 197,
   "id": "daaf5cca-67c1-477c-a360-7f220720e528",
   "metadata": {},
   "outputs": [],
   "source": [
    "y_data=df['Price']\n",
    "x_data=df.drop('Price',axis=1)"
   ]
  },
  {
   "cell_type": "code",
   "execution_count": 209,
   "id": "ff4e917e-f5ad-4113-ba78-3a8e4b7e35dc",
   "metadata": {},
   "outputs": [
    {
     "name": "stdout",
     "output_type": "stream",
     "text": [
      "No. of test samples: 24\n",
      "No. of training samples: 214\n"
     ]
    }
   ],
   "source": [
    "x_train,x_test,y_train,y_test=train_test_split(x_data,y_data,test_size=0.10,random_state=1)\n",
    "print(\"No. of test samples:\",x_test.shape[0])\n",
    "print(\"No. of training samples:\",x_train.shape[0])"
   ]
  },
  {
   "cell_type": "markdown",
   "id": "d3df9733-0b1b-4c4b-957b-67def1a4b534",
   "metadata": {},
   "source": [
    "<h4>Create a single variable linear regression model using \"CPU_frequency\" parameter. Print the R^2 value of this model for the training and testing subsets."
   ]
  },
  {
   "cell_type": "code",
   "execution_count": 216,
   "id": "bdc2a4ee-c25b-48b6-9e24-f288c761eba2",
   "metadata": {},
   "outputs": [
    {
     "name": "stdout",
     "output_type": "stream",
     "text": [
      "0.14829792099817962\n",
      "-0.06599437350393766\n"
     ]
    }
   ],
   "source": [
    "lr=LinearRegression()\n",
    "lr.fit(x_train[['CPU_frequency']],y_train)\n",
    "print(lr.score(x_train[['CPU_frequency']],y_train))\n",
    "print(lr.score(x_test[['CPU_frequency']],y_test))"
   ]
  },
  {
   "cell_type": "markdown",
   "id": "0f4aa648-e71e-4465-9ce3-7213a4d082d0",
   "metadata": {},
   "source": [
    "- Training R² (0.148): Your model explains only 14.8% of the variance in the training data, meaning CPU frequency alone is not a strong predictor.\n",
    "- Testing R² (-0.066): A negative R² on the test set indicates that the model performs worse than a simple mean prediction, meaning it doesn’t generalize well."
   ]
  },
  {
   "cell_type": "markdown",
   "id": "fd072fac-98ce-458c-b1db-fcb38db7385d",
   "metadata": {},
   "source": [
    "<h4>Run a 4-fold cross validation on the model and print the mean value of R^2 score along with its standard deviation."
   ]
  },
  {
   "cell_type": "code",
   "execution_count": 220,
   "id": "debab457-5200-4994-bb84-0a4359fc69fe",
   "metadata": {},
   "outputs": [
    {
     "name": "stdout",
     "output_type": "stream",
     "text": [
      "the mean of folds are: -0.16109232388595096\n",
      "the std of folds are: 0.3849579786664708\n"
     ]
    }
   ],
   "source": [
    "rcross=cross_val_score(lr,x_data[['CPU_frequency']],y_data,cv=4)\n",
    "rcross\n",
    "print(\"the mean of folds are:\",rcross.mean())\n",
    "print(\"the std of folds are:\",rcross.std())"
   ]
  },
  {
   "cell_type": "markdown",
   "id": "1798257c-bd7b-4495-b472-2e784c644cc1",
   "metadata": {},
   "source": [
    "Mean of folds (-0.161):\n",
    "\n",
    "- The negative value means your model performs worse than a simple mean prediction across all folds.\n",
    "- This confirms that CPU frequency alone is a weak predictor for the target variable.\n",
    "\n",
    "Standard deviation (0.385):\n",
    "\n",
    "- A high standard deviation suggests that the model’s performance varies significantly across different data splits.\n",
    "- This could indicate overfitting, data imbalance, or high variance in your dataset."
   ]
  },
  {
   "cell_type": "markdown",
   "id": "2f472ac3-5707-4fa5-891d-62781c59ed17",
   "metadata": {},
   "source": [
    "# Overfitting\n",
    "Split the data set into training and testing components again, this time reserving 50% of the data set for testing."
   ]
  },
  {
   "cell_type": "code",
   "execution_count": 227,
   "id": "b6e4f28c-3b3b-41d7-8a30-bacbcc0a4dc0",
   "metadata": {},
   "outputs": [],
   "source": [
    "x_train,x_test,y_train,y_test=train_test_split(x_data,y_data,test_size=0.50,random_state=0)"
   ]
  },
  {
   "cell_type": "markdown",
   "id": "11ff236c-40ce-40fc-8071-315d8cddb3c7",
   "metadata": {},
   "source": [
    "To identify the point of overfitting the model on the parameter \"CPU_frequency\", you'll need to create polynomial features using the single attribute. You need to evaluate the R^2 scores of the model created using different degrees of polynomial features, ranging from 1 to 5. Save this set of values of R^2 score as a list."
   ]
  },
  {
   "cell_type": "markdown",
   "id": "f4e16287-525a-4df8-aa56-4d7dd41ac75b",
   "metadata": {},
   "source": [
    "This code is testing Polynomial Regression of different degrees (from 1 to 5) to analyze how well CPU frequency predicts the target variable.\n",
    "\n",
    "- lre = LinearRegression(): Creates a Linear Regression model.\n",
    "- Rsqu_test = []: Initializes an empty list to store R² scores for different polynomial degrees.\n",
    "- order = [1, 2, 3, 4, 5]: Specifies different degrees of polynomial regression to test.\n",
    "\n",
    "- PolynomialFeatures(degree=n): Expands CPU_frequency into polynomial terms (e.g., x, x², x³, etc.).\n",
    "  \n",
    "pr.fit_transform(x_train[['CPU_frequency']]):\n",
    "\n",
    "- Degree 1: [1, x] (Same as Linear Regression)\n",
    "- Degree 2: [1, x, x²]\n",
    "- Degree 3: [1, x, x², x³]\n",
    "- Degree 4: [1, x, x², x³, x⁴]\n",
    "- Degree 5: [1, x, x², x³, x⁴, x⁵]\n",
    "  \n",
    "This transformation allows the model to capture non-linear relationships.\n"
   ]
  },
  {
   "cell_type": "code",
   "execution_count": 230,
   "id": "63842b1c-fedb-4de8-9942-833865b8ceab",
   "metadata": {},
   "outputs": [
    {
     "name": "stdout",
     "output_type": "stream",
     "text": [
      "[0.053221741761981134, -0.026920818679002867, 0.05156345792558803, -0.9948137915478965, -1.3759360956141218]\n"
     ]
    }
   ],
   "source": [
    "lre = LinearRegression()\n",
    "Rsqu_test = []\n",
    "order = [1, 2, 3, 4, 5]\n",
    "for n in order:\n",
    "    pr = PolynomialFeatures(degree=n)\n",
    "    x_train_pr = pr.fit_transform(x_train[['CPU_frequency']])\n",
    "    x_test_pr = pr.fit_transform(x_test[['CPU_frequency']])    \n",
    "    lre.fit(x_train_pr, y_train)\n",
    "    Rsqu_test.append(lre.score(x_test_pr, y_test))\n",
    "print(Rsqu_test)"
   ]
  },
  {
   "cell_type": "markdown",
   "id": "84e6c5db-0d49-4063-9515-9db842515a17",
   "metadata": {},
   "source": [
    "Plot the values of R^2 scores against the order. Note the point where the score drops"
   ]
  },
  {
   "cell_type": "code",
   "execution_count": 238,
   "id": "a10d9d9d-49ca-4b03-a573-26955b09b38e",
   "metadata": {},
   "outputs": [
    {
     "data": {
      "text/plain": [
       "Text(0.5, 1.0, 'R^2 Using Test Data')"
      ]
     },
     "execution_count": 238,
     "metadata": {},
     "output_type": "execute_result"
    },
    {
     "data": {
      "image/png": "[encoded data removed]",
      "text/plain": [
       "<Figure size 640x480 with 1 Axes>"
      ]
     },
     "metadata": {},
     "output_type": "display_data"
    }
   ],
   "source": [
    "plt.plot(order, Rsqu_test)\n",
    "plt.xlabel('order')\n",
    "plt.ylabel('R^2')\n",
    "plt.title('R^2 Using Test Data')"
   ]
  },
  {
   "cell_type": "markdown",
   "id": "2117e920-4910-43fa-8a80-07c68973e14a",
   "metadata": {},
   "source": [
    "Degree 4 and 5:\n",
    "\n",
    "The R² value drops drastically negative (worse than -1).\n",
    "\n",
    "This indicates severe overfitting—the model learns noise from training data and performs poorly on unseen data.\n",
    "\n",
    "Linear (degree = 1) or cubic (degree = 3) regression might be the best fit.\n",
    "\n",
    "Higher-degree polynomials lead to overfitting and make the model unreliable for predictions."
   ]
  },
  {
   "cell_type": "markdown",
   "id": "6b65d588-d0dd-4f4b-9639-e80c3fb617dd",
   "metadata": {},
   "source": [
    "# Ridge Regression\n",
    "\n",
    "Now consider that you have multiple features, i.e. 'CPU_frequency', 'RAM_GB', 'Storage_GB_SSD', 'CPU_core','OS','GPU' and 'Category'. Create a polynomial feature model that uses all these parameters with degree=2. Also create the training and testing attribute sets."
   ]
  },
  {
   "cell_type": "code",
   "execution_count": 244,
   "id": "b0e065fa-f892-4c8a-905c-514de76e39e3",
   "metadata": {},
   "outputs": [],
   "source": [
    "pr=PolynomialFeatures(degree=2)\n",
    "x_train_pr=pr.fit_transform(x_train[['CPU_frequency', 'RAM_GB', 'Storage_GB_SSD', 'CPU_core', 'OS', 'GPU', 'Category']])\n",
    "x_test_pr=pr.fit_transform(x_test[['CPU_frequency', 'RAM_GB', 'Storage_GB_SSD', 'CPU_core', 'OS', 'GPU', 'Category']])"
   ]
  },
  {
   "cell_type": "markdown",
   "id": "710742d5-c03a-4ffa-9573-22ea6c7209de",
   "metadata": {},
   "source": [
    "Create a Ridge Regression model and evaluate it using values of the hyperparameter alpha ranging from 0.001 to 1 with increments of 0.001. Create a list of all Ridge Regression R^2 scores for training and testing data"
   ]
  },
  {
   "cell_type": "markdown",
   "id": "4d430997-93e0-4e21-b626-d261646acef2",
   "metadata": {},
   "source": [
    "Regularization is a powerful technique to make your model more robust and generalizable. It is essential in cases where:\n",
    "\n",
    "✅ Your model is overfitting.\n",
    "\n",
    "✅ You have many correlated features.\n",
    "\n",
    "✅ You want to improve model interpretability.\n",
    "\n",
    "- Overfitting happens when coefficients are too large.\n",
    "- Regularization reduces their size and makes the model more generalizable."
   ]
  },
  {
   "cell_type": "code",
   "execution_count": 249,
   "id": "42c58ee1-aecf-4d02-8d51-eeed882bece5",
   "metadata": {},
   "outputs": [],
   "source": [
    "from tqdm import tqdm"
   ]
  },
  {
   "cell_type": "code",
   "execution_count": 251,
   "id": "425f2dfa-ed59-44bc-889b-df3ac84644d5",
   "metadata": {},
   "outputs": [
    {
     "name": "stderr",
     "output_type": "stream",
     "text": [
      "100%|██████████████████████████████████████████| 999/999 [00:08<00:00, 121.05it/s, Test Score=0.423, Train Score=0.669]\n"
     ]
    }
   ],
   "source": [
    "Rsqu_test = []\n",
    "Rsqu_train = []\n",
    "Alpha = np.arange(0.001,1,0.001)\n",
    "pbar = tqdm(Alpha)\n",
    "\n",
    "for alpha in pbar:\n",
    "    RigeModel = Ridge(alpha=alpha) \n",
    "    RigeModel.fit(x_train_pr, y_train)\n",
    "    test_score, train_score = RigeModel.score(x_test_pr, y_test), RigeModel.score(x_train_pr, y_train)\n",
    "    pbar.set_postfix({\"Test Score\": test_score, \"Train Score\": train_score})\n",
    "    Rsqu_test.append(test_score)\n",
    "    Rsqu_train.append(train_score)"
   ]
  },
  {
   "cell_type": "code",
   "execution_count": 259,
   "id": "01228968-e145-4139-8a2d-dcd7acfce007",
   "metadata": {},
   "outputs": [
    {
     "data": {
      "text/plain": [
       "<matplotlib.legend.Legend at 0x18a18a8c2c0>"
      ]
     },
     "execution_count": 259,
     "metadata": {},
     "output_type": "execute_result"
    },
    {
     "data": {
      "image/png": "[encoded data removed]",
      "text/plain": [
       "<Figure size 800x600 with 1 Axes>"
      ]
     },
     "metadata": {},
     "output_type": "display_data"
    }
   ],
   "source": [
    "plt.figure(figsize=(8, 6))  \n",
    "plt.plot(Alpha, Rsqu_test, label='validation data')\n",
    "plt.plot(Alpha, Rsqu_train, 'r', label='training Data')\n",
    "plt.xlabel('alpha')\n",
    "plt.ylabel('R^2')\n",
    "plt.ylim(0, 1)\n",
    "plt.legend()"
   ]
  },
  {
   "cell_type": "markdown",
   "id": "f9dc212b-39fa-46b3-b320-2e579aea84ae",
   "metadata": {},
   "source": [
    "Red Line (Training Data R²)\n",
    "\n",
    "- The training R² is relatively high (~0.7) and does not change significantly with alpha.\n",
    "- This suggests that the model fits the training data well.\n",
    "\n",
    "Blue Line (Validation Data R²)\n",
    "\n",
    "- The validation R² starts lower (~0.4) and slightly increases as alpha increases.\n",
    "- This means that adding regularization improves generalization, preventing overfitting"
   ]
  },
  {
   "cell_type": "markdown",
   "id": "2599cb03-7715-4b32-917e-40e00cc59694",
   "metadata": {},
   "source": [
    "<h5>Regularization is a technique used in machine learning to prevent overfitting by adding a penalty to the model’s complexity.\n",
    "\n",
    "<h5>Generalization is the ability of a machine learning model to perform well on unseen data, not just the training data. A well-generalized model can make accurate predictions on new inputs, while a poorly generalized model may overfit or underfit.\n",
    "\n",
    "<h5>In machine learning, adding a penalty means applying a constraint to the model’s weights (coefficients) to prevent overfitting. "
   ]
  },
  {
   "cell_type": "markdown",
   "id": "6739a32d-e56e-4ecc-b742-9b25babd937b",
   "metadata": {},
   "source": [
    "# Grid Search\n",
    "Using the raw data and the same set of features as used above, use GridSearchCV to identify the value of alpha for which the model performs best. Assume the set of alpha values to be used as\n",
    "\n",
    "{0.0001, 0.001, 0.01, 0.1, 1, 10}"
   ]
  },
  {
   "cell_type": "code",
   "execution_count": 275,
   "id": "e35f5b21-185f-4ab1-a49b-fb09dd43e34b",
   "metadata": {},
   "outputs": [],
   "source": [
    "parameters= [{'alpha': [0.0001,0.001,0.01, 0.1, 1, 10]}]"
   ]
  },
  {
   "cell_type": "markdown",
   "id": "390cfad2-863f-4f20-b24c-ffbbf414c3ae",
   "metadata": {},
   "source": [
    "Create a Ridge instance and run Grid Search using a 4 fold cross validation."
   ]
  },
  {
   "cell_type": "code",
   "execution_count": 277,
   "id": "82236feb-39fd-4fff-8c27-b3d6ac234a9d",
   "metadata": {},
   "outputs": [],
   "source": [
    "RR=Ridge()\n",
    "grid1=GridSearchCV(RR,parameters,cv=4)"
   ]
  },
  {
   "cell_type": "code",
   "execution_count": 282,
   "id": "d34acf6d-74bf-4f02-bdf3-10f7f9b47c66",
   "metadata": {},
   "outputs": [
    {
     "data": {
      "text/html": [
       "<style>#sk-container-id-1 {\n",
       "  /* Definition of color scheme common for light and dark mode */\n",
       "  --sklearn-color-text: black;\n",
       "  --sklearn-color-line: gray;\n",
       "  /* Definition of color scheme for unfitted estimators */\n",
       "  --sklearn-color-unfitted-level-0: #fff5e6;\n",
       "  --sklearn-color-unfitted-level-1: #f6e4d2;\n",
       "  --sklearn-color-unfitted-level-2: #ffe0b3;\n",
       "  --sklearn-color-unfitted-level-3: chocolate;\n",
       "  /* Definition of color scheme for fitted estimators */\n",
       "  --sklearn-color-fitted-level-0: #f0f8ff;\n",
       "  --sklearn-color-fitted-level-1: #d4ebff;\n",
       "  --sklearn-color-fitted-level-2: #b3dbfd;\n",
       "  --sklearn-color-fitted-level-3: cornflowerblue;\n",
       "\n",
       "  /* Specific color for light theme */\n",
       "  --sklearn-color-text-on-default-background: var(--sg-text-color, var(--theme-code-foreground, var(--jp-content-font-color1, black)));\n",
       "  --sklearn-color-background: var(--sg-background-color, var(--theme-background, var(--jp-layout-color0, white)));\n",
       "  --sklearn-color-border-box: var(--sg-text-color, var(--theme-code-foreground, var(--jp-content-font-color1, black)));\n",
       "  --sklearn-color-icon: #696969;\n",
       "\n",
       "  @media (prefers-color-scheme: dark) {\n",
       "    /* Redefinition of color scheme for dark theme */\n",
       "    --sklearn-color-text-on-default-background: var(--sg-text-color, var(--theme-code-foreground, var(--jp-content-font-color1, white)));\n",
       "    --sklearn-color-background: var(--sg-background-color, var(--theme-background, var(--jp-layout-color0, #111)));\n",
       "    --sklearn-color-border-box: var(--sg-text-color, var(--theme-code-foreground, var(--jp-content-font-color1, white)));\n",
       "    --sklearn-color-icon: #878787;\n",
       "  }\n",
       "}\n",
       "\n",
       "#sk-container-id-1 {\n",
       "  color: var(--sklearn-color-text);\n",
       "}\n",
       "\n",
       "#sk-container-id-1 pre {\n",
       "  padding: 0;\n",
       "}\n",
       "\n",
       "#sk-container-id-1 input.sk-hidden--visually {\n",
       "  border: 0;\n",
       "  clip: rect(1px 1px 1px 1px);\n",
       "  clip: rect(1px, 1px, 1px, 1px);\n",
       "  height: 1px;\n",
       "  margin: -1px;\n",
       "  overflow: hidden;\n",
       "  padding: 0;\n",
       "  position: absolute;\n",
       "  width: 1px;\n",
       "}\n",
       "\n",
       "#sk-container-id-1 div.sk-dashed-wrapped {\n",
       "  border: 1px dashed var(--sklearn-color-line);\n",
       "  margin: 0 0.4em 0.5em 0.4em;\n",
       "  box-sizing: border-box;\n",
       "  padding-bottom: 0.4em;\n",
       "  background-color: var(--sklearn-color-background);\n",
       "}\n",
       "\n",
       "#sk-container-id-1 div.sk-container {\n",
       "  /* jupyter's `normalize.less` sets `[hidden] { display: none; }`\n",
       "     but bootstrap.min.css set `[hidden] { display: none !important; }`\n",
       "     so we also need the `!important` here to be able to override the\n",
       "     default hidden behavior on the sphinx rendered scikit-learn.org.\n",
       "     See: https://github.com/scikit-learn/scikit-learn/issues/21755 */\n",
       "  display: inline-block !important;\n",
       "  position: relative;\n",
       "}\n",
       "\n",
       "#sk-container-id-1 div.sk-text-repr-fallback {\n",
       "  display: none;\n",
       "}\n",
       "\n",
       "div.sk-parallel-item,\n",
       "div.sk-serial,\n",
       "div.sk-item {\n",
       "  /* draw centered vertical line to link estimators */\n",
       "  background-image: linear-gradient(var(--sklearn-color-text-on-default-background), var(--sklearn-color-text-on-default-background));\n",
       "  background-size: 2px 100%;\n",
       "  background-repeat: no-repeat;\n",
       "  background-position: center center;\n",
       "}\n",
       "\n",
       "/* Parallel-specific style estimator block */\n",
       "\n",
       "#sk-container-id-1 div.sk-parallel-item::after {\n",
       "  content: \"\";\n",
       "  width: 100%;\n",
       "  border-bottom: 2px solid var(--sklearn-color-text-on-default-background);\n",
       "  flex-grow: 1;\n",
       "}\n",
       "\n",
       "#sk-container-id-1 div.sk-parallel {\n",
       "  display: flex;\n",
       "  align-items: stretch;\n",
       "  justify-content: center;\n",
       "  background-color: var(--sklearn-color-background);\n",
       "  position: relative;\n",
       "}\n",
       "\n",
       "#sk-container-id-1 div.sk-parallel-item {\n",
       "  display: flex;\n",
       "  flex-direction: column;\n",
       "}\n",
       "\n",
       "#sk-container-id-1 div.sk-parallel-item:first-child::after {\n",
       "  align-self: flex-end;\n",
       "  width: 50%;\n",
       "}\n",
       "\n",
       "#sk-container-id-1 div.sk-parallel-item:last-child::after {\n",
       "  align-self: flex-start;\n",
       "  width: 50%;\n",
       "}\n",
       "\n",
       "#sk-container-id-1 div.sk-parallel-item:only-child::after {\n",
       "  width: 0;\n",
       "}\n",
       "\n",
       "/* Serial-specific style estimator block */\n",
       "\n",
       "#sk-container-id-1 div.sk-serial {\n",
       "  display: flex;\n",
       "  flex-direction: column;\n",
       "  align-items: center;\n",
       "  background-color: var(--sklearn-color-background);\n",
       "  padding-right: 1em;\n",
       "  padding-left: 1em;\n",
       "}\n",
       "\n",
       "\n",
       "/* Toggleable style: style used for estimator/Pipeline/ColumnTransformer box that is\n",
       "clickable and can be expanded/collapsed.\n",
       "- Pipeline and ColumnTransformer use this feature and define the default style\n",
       "- Estimators will overwrite some part of the style using the `sk-estimator` class\n",
       "*/\n",
       "\n",
       "/* Pipeline and ColumnTransformer style (default) */\n",
       "\n",
       "#sk-container-id-1 div.sk-toggleable {\n",
       "  /* Default theme specific background. It is overwritten whether we have a\n",
       "  specific estimator or a Pipeline/ColumnTransformer */\n",
       "  background-color: var(--sklearn-color-background);\n",
       "}\n",
       "\n",
       "/* Toggleable label */\n",
       "#sk-container-id-1 label.sk-toggleable__label {\n",
       "  cursor: pointer;\n",
       "  display: block;\n",
       "  width: 100%;\n",
       "  margin-bottom: 0;\n",
       "  padding: 0.5em;\n",
       "  box-sizing: border-box;\n",
       "  text-align: center;\n",
       "}\n",
       "\n",
       "#sk-container-id-1 label.sk-toggleable__label-arrow:before {\n",
       "  /* Arrow on the left of the label */\n",
       "  content: \"▸\";\n",
       "  float: left;\n",
       "  margin-right: 0.25em;\n",
       "  color: var(--sklearn-color-icon);\n",
       "}\n",
       "\n",
       "#sk-container-id-1 label.sk-toggleable__label-arrow:hover:before {\n",
       "  color: var(--sklearn-color-text);\n",
       "}\n",
       "\n",
       "/* Toggleable content - dropdown */\n",
       "\n",
       "#sk-container-id-1 div.sk-toggleable__content {\n",
       "  max-height: 0;\n",
       "  max-width: 0;\n",
       "  overflow: hidden;\n",
       "  text-align: left;\n",
       "  /* unfitted */\n",
       "  background-color: var(--sklearn-color-unfitted-level-0);\n",
       "}\n",
       "\n",
       "#sk-container-id-1 div.sk-toggleable__content.fitted {\n",
       "  /* fitted */\n",
       "  background-color: var(--sklearn-color-fitted-level-0);\n",
       "}\n",
       "\n",
       "#sk-container-id-1 div.sk-toggleable__content pre {\n",
       "  margin: 0.2em;\n",
       "  border-radius: 0.25em;\n",
       "  color: var(--sklearn-color-text);\n",
       "  /* unfitted */\n",
       "  background-color: var(--sklearn-color-unfitted-level-0);\n",
       "}\n",
       "\n",
       "#sk-container-id-1 div.sk-toggleable__content.fitted pre {\n",
       "  /* unfitted */\n",
       "  background-color: var(--sklearn-color-fitted-level-0);\n",
       "}\n",
       "\n",
       "#sk-container-id-1 input.sk-toggleable__control:checked~div.sk-toggleable__content {\n",
       "  /* Expand drop-down */\n",
       "  max-height: 200px;\n",
       "  max-width: 100%;\n",
       "  overflow: auto;\n",
       "}\n",
       "\n",
       "#sk-container-id-1 input.sk-toggleable__control:checked~label.sk-toggleable__label-arrow:before {\n",
       "  content: \"▾\";\n",
       "}\n",
       "\n",
       "/* Pipeline/ColumnTransformer-specific style */\n",
       "\n",
       "#sk-container-id-1 div.sk-label input.sk-toggleable__control:checked~label.sk-toggleable__label {\n",
       "  color: var(--sklearn-color-text);\n",
       "  background-color: var(--sklearn-color-unfitted-level-2);\n",
       "}\n",
       "\n",
       "#sk-container-id-1 div.sk-label.fitted input.sk-toggleable__control:checked~label.sk-toggleable__label {\n",
       "  background-color: var(--sklearn-color-fitted-level-2);\n",
       "}\n",
       "\n",
       "/* Estimator-specific style */\n",
       "\n",
       "/* Colorize estimator box */\n",
       "#sk-container-id-1 div.sk-estimator input.sk-toggleable__control:checked~label.sk-toggleable__label {\n",
       "  /* unfitted */\n",
       "  background-color: var(--sklearn-color-unfitted-level-2);\n",
       "}\n",
       "\n",
       "#sk-container-id-1 div.sk-estimator.fitted input.sk-toggleable__control:checked~label.sk-toggleable__label {\n",
       "  /* fitted */\n",
       "  background-color: var(--sklearn-color-fitted-level-2);\n",
       "}\n",
       "\n",
       "#sk-container-id-1 div.sk-label label.sk-toggleable__label,\n",
       "#sk-container-id-1 div.sk-label label {\n",
       "  /* The background is the default theme color */\n",
       "  color: var(--sklearn-color-text-on-default-background);\n",
       "}\n",
       "\n",
       "/* On hover, darken the color of the background */\n",
       "#sk-container-id-1 div.sk-label:hover label.sk-toggleable__label {\n",
       "  color: var(--sklearn-color-text);\n",
       "  background-color: var(--sklearn-color-unfitted-level-2);\n",
       "}\n",
       "\n",
       "/* Label box, darken color on hover, fitted */\n",
       "#sk-container-id-1 div.sk-label.fitted:hover label.sk-toggleable__label.fitted {\n",
       "  color: var(--sklearn-color-text);\n",
       "  background-color: var(--sklearn-color-fitted-level-2);\n",
       "}\n",
       "\n",
       "/* Estimator label */\n",
       "\n",
       "#sk-container-id-1 div.sk-label label {\n",
       "  font-family: monospace;\n",
       "  font-weight: bold;\n",
       "  display: inline-block;\n",
       "  line-height: 1.2em;\n",
       "}\n",
       "\n",
       "#sk-container-id-1 div.sk-label-container {\n",
       "  text-align: center;\n",
       "}\n",
       "\n",
       "/* Estimator-specific */\n",
       "#sk-container-id-1 div.sk-estimator {\n",
       "  font-family: monospace;\n",
       "  border: 1px dotted var(--sklearn-color-border-box);\n",
       "  border-radius: 0.25em;\n",
       "  box-sizing: border-box;\n",
       "  margin-bottom: 0.5em;\n",
       "  /* unfitted */\n",
       "  background-color: var(--sklearn-color-unfitted-level-0);\n",
       "}\n",
       "\n",
       "#sk-container-id-1 div.sk-estimator.fitted {\n",
       "  /* fitted */\n",
       "  background-color: var(--sklearn-color-fitted-level-0);\n",
       "}\n",
       "\n",
       "/* on hover */\n",
       "#sk-container-id-1 div.sk-estimator:hover {\n",
       "  /* unfitted */\n",
       "  background-color: var(--sklearn-color-unfitted-level-2);\n",
       "}\n",
       "\n",
       "#sk-container-id-1 div.sk-estimator.fitted:hover {\n",
       "  /* fitted */\n",
       "  background-color: var(--sklearn-color-fitted-level-2);\n",
       "}\n",
       "\n",
       "/* Specification for estimator info (e.g. \"i\" and \"?\") */\n",
       "\n",
       "/* Common style for \"i\" and \"?\" */\n",
       "\n",
       ".sk-estimator-doc-link,\n",
       "a:link.sk-estimator-doc-link,\n",
       "a:visited.sk-estimator-doc-link {\n",
       "  float: right;\n",
       "  font-size: smaller;\n",
       "  line-height: 1em;\n",
       "  font-family: monospace;\n",
       "  background-color: var(--sklearn-color-background);\n",
       "  border-radius: 1em;\n",
       "  height: 1em;\n",
       "  width: 1em;\n",
       "  text-decoration: none !important;\n",
       "  margin-left: 1ex;\n",
       "  /* unfitted */\n",
       "  border: var(--sklearn-color-unfitted-level-1) 1pt solid;\n",
       "  color: var(--sklearn-color-unfitted-level-1);\n",
       "}\n",
       "\n",
       ".sk-estimator-doc-link.fitted,\n",
       "a:link.sk-estimator-doc-link.fitted,\n",
       "a:visited.sk-estimator-doc-link.fitted {\n",
       "  /* fitted */\n",
       "  border: var(--sklearn-color-fitted-level-1) 1pt solid;\n",
       "  color: var(--sklearn-color-fitted-level-1);\n",
       "}\n",
       "\n",
       "/* On hover */\n",
       "div.sk-estimator:hover .sk-estimator-doc-link:hover,\n",
       ".sk-estimator-doc-link:hover,\n",
       "div.sk-label-container:hover .sk-estimator-doc-link:hover,\n",
       ".sk-estimator-doc-link:hover {\n",
       "  /* unfitted */\n",
       "  background-color: var(--sklearn-color-unfitted-level-3);\n",
       "  color: var(--sklearn-color-background);\n",
       "  text-decoration: none;\n",
       "}\n",
       "\n",
       "div.sk-estimator.fitted:hover .sk-estimator-doc-link.fitted:hover,\n",
       ".sk-estimator-doc-link.fitted:hover,\n",
       "div.sk-label-container:hover .sk-estimator-doc-link.fitted:hover,\n",
       ".sk-estimator-doc-link.fitted:hover {\n",
       "  /* fitted */\n",
       "  background-color: var(--sklearn-color-fitted-level-3);\n",
       "  color: var(--sklearn-color-background);\n",
       "  text-decoration: none;\n",
       "}\n",
       "\n",
       "/* Span, style for the box shown on hovering the info icon */\n",
       ".sk-estimator-doc-link span {\n",
       "  display: none;\n",
       "  z-index: 9999;\n",
       "  position: relative;\n",
       "  font-weight: normal;\n",
       "  right: .2ex;\n",
       "  padding: .5ex;\n",
       "  margin: .5ex;\n",
       "  width: min-content;\n",
       "  min-width: 20ex;\n",
       "  max-width: 50ex;\n",
       "  color: var(--sklearn-color-text);\n",
       "  box-shadow: 2pt 2pt 4pt #999;\n",
       "  /* unfitted */\n",
       "  background: var(--sklearn-color-unfitted-level-0);\n",
       "  border: .5pt solid var(--sklearn-color-unfitted-level-3);\n",
       "}\n",
       "\n",
       ".sk-estimator-doc-link.fitted span {\n",
       "  /* fitted */\n",
       "  background: var(--sklearn-color-fitted-level-0);\n",
       "  border: var(--sklearn-color-fitted-level-3);\n",
       "}\n",
       "\n",
       ".sk-estimator-doc-link:hover span {\n",
       "  display: block;\n",
       "}\n",
       "\n",
       "/* \"?\"-specific style due to the `<a>` HTML tag */\n",
       "\n",
       "#sk-container-id-1 a.estimator_doc_link {\n",
       "  float: right;\n",
       "  font-size: 1rem;\n",
       "  line-height: 1em;\n",
       "  font-family: monospace;\n",
       "  background-color: var(--sklearn-color-background);\n",
       "  border-radius: 1rem;\n",
       "  height: 1rem;\n",
       "  width: 1rem;\n",
       "  text-decoration: none;\n",
       "  /* unfitted */\n",
       "  color: var(--sklearn-color-unfitted-level-1);\n",
       "  border: var(--sklearn-color-unfitted-level-1) 1pt solid;\n",
       "}\n",
       "\n",
       "#sk-container-id-1 a.estimator_doc_link.fitted {\n",
       "  /* fitted */\n",
       "  border: var(--sklearn-color-fitted-level-1) 1pt solid;\n",
       "  color: var(--sklearn-color-fitted-level-1);\n",
       "}\n",
       "\n",
       "/* On hover */\n",
       "#sk-container-id-1 a.estimator_doc_link:hover {\n",
       "  /* unfitted */\n",
       "  background-color: var(--sklearn-color-unfitted-level-3);\n",
       "  color: var(--sklearn-color-background);\n",
       "  text-decoration: none;\n",
       "}\n",
       "\n",
       "#sk-container-id-1 a.estimator_doc_link.fitted:hover {\n",
       "  /* fitted */\n",
       "  background-color: var(--sklearn-color-fitted-level-3);\n",
       "}\n",
       "</style><div id=\"sk-container-id-1\" class=\"sk-top-container\"><div class=\"sk-text-repr-fallback\"><pre>GridSearchCV(cv=4, estimator=Ridge(),\n",
       "             param_grid=[{&#x27;alpha&#x27;: [0.0001, 0.001, 0.01, 0.1, 1, 10]}])</pre><b>In a Jupyter environment, please rerun this cell to show the HTML representation or trust the notebook. <br />On GitHub, the HTML representation is unable to render, please try loading this page with nbviewer.org.</b></div><div class=\"sk-container\" hidden><div class=\"sk-item sk-dashed-wrapped\"><div class=\"sk-label-container\"><div class=\"sk-label fitted sk-toggleable\"><input class=\"sk-toggleable__control sk-hidden--visually\" id=\"sk-estimator-id-1\" type=\"checkbox\" ><label for=\"sk-estimator-id-1\" class=\"sk-toggleable__label fitted sk-toggleable__label-arrow fitted\">&nbsp;&nbsp;GridSearchCV<a class=\"sk-estimator-doc-link fitted\" rel=\"noreferrer\" target=\"_blank\" href=\"https://scikit-learn.org/1.5/modules/generated/sklearn.model_selection.GridSearchCV.html\">?<span>Documentation for GridSearchCV</span></a><span class=\"sk-estimator-doc-link fitted\">i<span>Fitted</span></span></label><div class=\"sk-toggleable__content fitted\"><pre>GridSearchCV(cv=4, estimator=Ridge(),\n",
       "             param_grid=[{&#x27;alpha&#x27;: [0.0001, 0.001, 0.01, 0.1, 1, 10]}])</pre></div> </div></div><div class=\"sk-parallel\"><div class=\"sk-parallel-item\"><div class=\"sk-item\"><div class=\"sk-label-container\"><div class=\"sk-label fitted sk-toggleable\"><input class=\"sk-toggleable__control sk-hidden--visually\" id=\"sk-estimator-id-2\" type=\"checkbox\" ><label for=\"sk-estimator-id-2\" class=\"sk-toggleable__label fitted sk-toggleable__label-arrow fitted\">best_estimator_: Ridge</label><div class=\"sk-toggleable__content fitted\"><pre>Ridge(alpha=10)</pre></div> </div></div><div class=\"sk-serial\"><div class=\"sk-item\"><div class=\"sk-estimator fitted sk-toggleable\"><input class=\"sk-toggleable__control sk-hidden--visually\" id=\"sk-estimator-id-3\" type=\"checkbox\" ><label for=\"sk-estimator-id-3\" class=\"sk-toggleable__label fitted sk-toggleable__label-arrow fitted\">&nbsp;Ridge<a class=\"sk-estimator-doc-link fitted\" rel=\"noreferrer\" target=\"_blank\" href=\"https://scikit-learn.org/1.5/modules/generated/sklearn.linear_model.Ridge.html\">?<span>Documentation for Ridge</span></a></label><div class=\"sk-toggleable__content fitted\"><pre>Ridge(alpha=10)</pre></div> </div></div></div></div></div></div></div></div></div>"
      ],
      "text/plain": [
       "GridSearchCV(cv=4, estimator=Ridge(),\n",
       "             param_grid=[{'alpha': [0.0001, 0.001, 0.01, 0.1, 1, 10]}])"
      ]
     },
     "execution_count": 282,
     "metadata": {},
     "output_type": "execute_result"
    }
   ],
   "source": [
    "grid1.fit(x_train[['CPU_frequency', 'RAM_GB', 'Storage_GB_SSD', 'CPU_core', 'OS', 'GPU', 'Category']], y_train)"
   ]
  },
  {
   "cell_type": "markdown",
   "id": "b2dbff17-625c-47f1-8aaa-fc46610f4311",
   "metadata": {},
   "source": [
    "Print the R^2 score for the test data using the estimator that uses the derived optimum value of alpha"
   ]
  },
  {
   "cell_type": "code",
   "execution_count": 289,
   "id": "49b7cffe-e121-4694-bb96-000cbda42fe8",
   "metadata": {},
   "outputs": [
    {
     "name": "stdout",
     "output_type": "stream",
     "text": [
      "0.3009905048691818\n"
     ]
    }
   ],
   "source": [
    "BestRR=grid1.best_estimator_\n",
    "print(BestRR.score(x_test[['CPU_frequency', 'RAM_GB', 'Storage_GB_SSD', 'CPU_core','OS','GPU','Category']], y_test))"
   ]
  },
  {
   "cell_type": "markdown",
   "id": "b845a7ac-51d3-4c35-a1cc-21c0026df20d",
   "metadata": {},
   "source": [
    "The R² score on the test set is 0.399.\n",
    "\n",
    "This means 39.9% of the variance in the target variable (Price) is explained by the model.\n",
    "\n",
    "This is an improvement compared to the previous models, suggesting that Ridge Regression with the chosen alpha is a better fit."
   ]
  },
  {
   "cell_type": "code",
   "execution_count": null,
   "id": "2b283757-16d1-437e-a827-7d2fe6cdd0cf",
   "metadata": {},
   "outputs": [],
   "source": []
  }
 ],
 "metadata": {
  "kernelspec": {
   "display_name": "Python 3 (ipykernel)",
   "language": "python",
   "name": "python3"
  },
  "language_info": {
   "codemirror_mode": {
    "name": "ipython",
    "version": 3
   },
   "file_extension": ".py",
   "mimetype": "text/x-python",
   "name": "python",
   "nbconvert_exporter": "python",
   "pygments_lexer": "ipython3",
   "version": "3.12.7"
  }
 },
 "nbformat": 4,
 "nbformat_minor": 5
}
